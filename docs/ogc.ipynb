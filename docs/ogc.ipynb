{
 "cells": [
  {
   "cell_type": "markdown",
   "metadata": {},
   "source": [
    "# OGC Bounding Box\n",
    "\n",
    "The schema is available at https://raw.githubusercontent.com/eoap/schemas/main/ogc.yaml to support a [Bounding Box value](https://docs.ogc.org/is/18-062r2/18-062r2.html#bounding-box-value).\n",
    "\n",
    "The schema defines: \n",
    "\n",
    "- A `BBox` record,  which describes a [bbox](https://github.com/opengeospatial/ogcapi-processes/blob/master/openapi/schemas/processes-core/bbox.yaml).\n",
    "\n",
    "## How to use this schema\n",
    "\n",
    "Import the schema in the CWL description:\n",
    "\n",
    "```yaml\n",
    "cwlVersion: v1.2\n",
    "class: CommandLineTool\n",
    "requirements:\n",
    "  ...\n",
    "  SchemaDefRequirement:\n",
    "    types:\n",
    "    - $import: https://raw.githubusercontent.com/eoap/schemas/main/ogc.yaml\n",
    "```\n",
    "\n",
    "Then define an input of `type` `https://raw.githubusercontent.com/eoap/schemas/main/ogc.yaml#BBox`:\n",
    "\n",
    "```yaml\n",
    "cwlVersion: v1.2\n",
    "class: CommandLineTool\n",
    "requirements:\n",
    "  ...\n",
    "  SchemaDefRequirement:\n",
    "    types:\n",
    "    - $import: https://raw.githubusercontent.com/eoap/schemas/main/ogc.yaml\n",
    "\n",
    "inputs:\n",
    "  aoi:\n",
    "    type: https://raw.githubusercontent.com/eoap/schemas/main/ogc.yaml#BBox\n",
    "    label: \"Area of interest\"\n",
    "    doc: \"Area of interest defined as a bounding box\"\n",
    "```\n",
    "\n",
    "## Input example\n",
    "\n",
    "A complete example:\n",
    "\n",
    "```yaml\n",
    "cwlVersion: v1.2\n",
    "class: CommandLineTool\n",
    "label: \"Echo OGC BBox\"\n",
    "baseCommand: echo\n",
    "\n",
    "requirements:\n",
    "  InlineJavascriptRequirement: {}\n",
    "  SchemaDefRequirement:\n",
    "    types:\n",
    "    - $import: https://raw.githubusercontent.com/eoap/schemas/main/ogc.yaml\n",
    "\n",
    "inputs:\n",
    "  aoi:\n",
    "    type: https://raw.githubusercontent.com/eoap/schemas/main/ogc.yaml#BBox\n",
    "    label: \"Area of interest\"\n",
    "    doc: \"Area of interest defined as a bounding box\"\n",
    "    inputBinding:\n",
    "      valueFrom: |\n",
    "        ${\n",
    "          // Validate the length of bbox to be either 4 or 6\n",
    "          var bboxLength = inputs.aoi.bbox.length;\n",
    "          if (bboxLength !== 4 && bboxLength !== 6) {\n",
    "            throw \"Invalid bbox length: bbox must have either 4 or 6 elements.\";\n",
    "          }\n",
    "          // Convert bbox array to a space-separated string for echo\n",
    "          return inputs.aoi.bbox.join(' ') + \" CRS: \" + inputs.aoi.crs;\n",
    "        }\n",
    "\n",
    "outputs:\n",
    "  echo_output:\n",
    "    type: stdout\n",
    "\n",
    "stdout: echo_output.txt\n",
    "```\n",
    "\n",
    "Then create an input: \n",
    "\n",
    "```\n",
    "aoi:\n",
    "  class: \"https://raw.githubusercontent.com/eoap/schemas/main/ogc.yaml#BBox\"\n",
    "  bbox: [100.0, 0.0, 101.0, 1.0]\n",
    "  crs: \"CRS84\"\n",
    "```"
   ]
  },
  {
   "cell_type": "markdown",
   "metadata": {},
   "source": [
    "## Execute the example "
   ]
  },
  {
   "cell_type": "code",
   "execution_count": null,
   "metadata": {
    "vscode": {
     "languageId": "shellscript"
    }
   },
   "outputs": [],
   "source": [
    "cwltool ../examples/ogc-bbox.cwl ../examples/ogc-bbox.yaml "
   ]
  }
 ],
 "metadata": {
  "kernelspec": {
   "display_name": "Bash",
   "language": "bash",
   "name": "bash"
  },
  "language_info": {
   "name": "bash"
  }
 },
 "nbformat": 4,
 "nbformat_minor": 2
}
