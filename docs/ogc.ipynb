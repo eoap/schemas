{
 "cells": [
  {
   "cell_type": "markdown",
   "metadata": {},
   "source": [
    "# OGC Bounding Box\n",
    "\n",
    "The schema is available at https://raw.githubusercontent.com/eoap/schemas/main/ogc.yaml to support a [Bounding Box value](https://docs.ogc.org/is/18-062r2/18-062r2.html#bounding-box-value).\n",
    "\n",
    "The schema defines: \n",
    "\n",
    "- A `BBox` record,  which describes a [bbox](https://github.com/opengeospatial/ogcapi-processes/blob/master/openapi/schemas/processes-core/bbox.yaml).\n",
    "\n",
    "## How to use this schema\n",
    "\n",
    "Import the schema in the CWL description:\n",
    "\n",
    "```yaml\n",
    "cwlVersion: v1.2\n",
    "class: CommandLineTool\n",
    "requirements:\n",
    "  ...\n",
    "  SchemaDefRequirement:\n",
    "    types:\n",
    "    - $import: https://raw.githubusercontent.com/eoap/schemas/main/ogc.yaml\n",
    "```\n",
    "\n",
    "Then define an input of `type` `https://raw.githubusercontent.com/eoap/schemas/main/ogc.yaml#BBox`:\n",
    "\n",
    "```yaml\n",
    "cwlVersion: v1.2\n",
    "class: CommandLineTool\n",
    "requirements:\n",
    "  ...\n",
    "  SchemaDefRequirement:\n",
    "    types:\n",
    "    - $import: https://raw.githubusercontent.com/eoap/schemas/main/ogc.yaml\n",
    "\n",
    "inputs:\n",
    "  aoi:\n",
    "    type: https://raw.githubusercontent.com/eoap/schemas/main/ogc.yaml#BBox\n",
    "    label: \"Area of interest\"\n",
    "    doc: \"Area of interest defined as a bounding box\"\n",
    "```\n",
    "\n",
    "## Input example\n",
    "\n",
    "A complete example:\n",
    "\n",
    "```yaml\n",
    "cwlVersion: v1.2\n",
    "class: CommandLineTool\n",
    "label: \"Echo OGC BBox\"\n",
    "baseCommand: echo\n",
    "\n",
    "requirements:\n",
    "  InlineJavascriptRequirement: {}\n",
    "  SchemaDefRequirement:\n",
    "    types:\n",
    "    - $import: https://raw.githubusercontent.com/eoap/schemas/main/ogc.yaml\n",
    "\n",
    "inputs:\n",
    "  aoi:\n",
    "    type: https://raw.githubusercontent.com/eoap/schemas/main/ogc.yaml#BBox\n",
    "    label: \"Area of interest\"\n",
    "    doc: \"Area of interest defined as a bounding box\"\n",
    "    inputBinding:\n",
    "      valueFrom: |\n",
    "        ${\n",
    "          // Validate the length of bbox to be either 4 or 6\n",
    "          var bboxLength = inputs.aoi.bbox.length;\n",
    "          if (bboxLength !== 4 && bboxLength !== 6) {\n",
    "            throw \"Invalid bbox length: bbox must have either 4 or 6 elements.\";\n",
    "          }\n",
    "          // Convert bbox array to a space-separated string for echo\n",
    "          return inputs.aoi.bbox.join(' ') + \" CRS: \" + inputs.aoi.crs;\n",
    "        }\n",
    "\n",
    "outputs:\n",
    "  echo_output:\n",
    "    type: stdout\n",
    "\n",
    "stdout: echo_output.txt\n",
    "```\n",
    "\n",
    "Then create an input: \n",
    "\n",
    "```\n",
    "aoi:\n",
    "  class: \"https://raw.githubusercontent.com/eoap/schemas/main/ogc.yaml#BBox\"\n",
    "  bbox: [100.0, 0.0, 101.0, 1.0]\n",
    "  crs: \"CRS84\"\n",
    "```"
   ]
  },
  {
   "cell_type": "markdown",
   "metadata": {},
   "source": [
    "## Execute the example \n",
    "\n",
    "Run the example with:\n",
    "\n",
    "```bash\n",
    "cwltool examples/ogc-bbox/ogc-bbox.cwl examples/ogc-bbox/ogc-bbox.yaml > output.json\n",
    "```\n",
    "\n",
    "This produces the output:\n"
   ]
  },
  {
   "cell_type": "code",
   "execution_count": null,
   "metadata": {
    "vscode": {
     "languageId": "shellscript"
    }
   },
   "outputs": [
    {
     "name": "stdout",
     "output_type": "stream",
     "text": [
      "\u001b[1;30mINFO\u001b[0m /home/fbrito/.local/bin/cwltool 3.1.20250110105449\n",
      "\u001b[1;30mINFO\u001b[0m Resolved '../examples/ogc-bbox/ogc-bbox.cwl' to 'file:///data/work/github/eoap/schemas/examples/ogc-bbox/ogc-bbox.cwl'\n",
      "\u001b[1;30mINFO\u001b[0m [job ogc-bbox.cwl] /tmp/inllukdg$ echo \\\n",
      "    '100 0 101 1 CRS: CRS84' > /tmp/inllukdg/echo_output.txt\n",
      "\u001b[1;30mINFO\u001b[0m [job ogc-bbox.cwl] completed success\n",
      "\u001b[1;30mINFO\u001b[0m Final process status is success\n"
     ]
    }
   ],
   "source": [
    "cwltool ../examples/ogc-bbox/ogc-bbox.cwl ../examples/ogc-bbox/ogc-bbox.yaml > output.json"
   ]
  },
  {
   "cell_type": "markdown",
   "metadata": {},
   "source": [
    "The content of the `echo_output.txt` file is:"
   ]
  },
  {
   "cell_type": "code",
   "execution_count": null,
   "metadata": {
    "vscode": {
     "languageId": "shellscript"
    }
   },
   "outputs": [
    {
     "name": "stdout",
     "output_type": "stream",
     "text": [
      "100 0 101 1 CRS: CRS84\n"
     ]
    }
   ],
   "source": [
    "cat $( cat output.json | jq -r .echo_output.path )\n"
   ]
  },
  {
   "cell_type": "code",
   "execution_count": null,
   "metadata": {
    "vscode": {
     "languageId": "shellscript"
    }
   },
   "outputs": [],
   "source": []
  }
 ],
 "metadata": {
  "kernelspec": {
   "display_name": "Bash",
   "language": "bash",
   "name": "bash"
  },
  "language_info": {
   "codemirror_mode": "shell",
   "file_extension": ".sh",
   "mimetype": "text/x-sh",
   "name": "bash"
  }
 },
 "nbformat": 4,
 "nbformat_minor": 2
}
