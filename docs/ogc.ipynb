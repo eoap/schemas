{
 "cells": [
  {
   "cell_type": "markdown",
   "metadata": {},
   "source": [
    "# OGC API Processes custom types for CWL"
   ]
  },
  {
   "cell_type": "markdown",
   "metadata": {},
   "source": [
    "## How to use this schema\n",
    "\n",
    "Import the schema in the CWL description:\n",
    "\n",
    "```yaml\n",
    "cwlVersion: v1.2\n",
    "class: CommandLineTool\n",
    "requirements:\n",
    "  ...\n",
    "  SchemaDefRequirement:\n",
    "    types:\n",
    "    - $import: https://raw.githubusercontent.com/eoap/schemas/main/ogc.yaml\n",
    "```"
   ]
  },
  {
   "cell_type": "markdown",
   "metadata": {},
   "source": []
  }
 ],
 "metadata": {
  "language_info": {
   "name": "python"
  }
 },
 "nbformat": 4,
 "nbformat_minor": 2
}
