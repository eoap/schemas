{
 "cells": [
  {
   "cell_type": "markdown",
   "metadata": {},
   "source": [
    "# Datetime"
   ]
  },
  {
   "cell_type": "markdown",
   "metadata": {},
   "source": [
    "## CWL example"
   ]
  },
  {
   "cell_type": "code",
   "execution_count": 9,
   "metadata": {
    "vscode": {
     "languageId": "shellscript"
    }
   },
   "outputs": [
    {
     "name": "stdout",
     "output_type": "stream",
     "text": [
      "\u001b[36mcwlVersion\u001b[0m:\u001b[32m v1.2\u001b[0m\n",
      "\u001b[32m\u001b[0m\u001b[36mclass\u001b[0m:\u001b[32m CommandLineTool\u001b[0m\n",
      "\u001b[32m\u001b[0m\u001b[36mlabel\u001b[0m:\u001b[32m \"Echo OGC BBox\"\u001b[0m\u001b[36m\u001b[0m\n",
      "\u001b[36mbaseCommand\u001b[0m:\u001b[32m echo\u001b[0m\n",
      "\u001b[32m\u001b[0m\u001b[36mrequirements\u001b[0m:\n",
      "  -\u001b[36m class\u001b[0m:\u001b[32m InlineJavascriptRequirement\u001b[0m\n",
      "\u001b[32m  \u001b[0m-\u001b[36m class\u001b[0m:\u001b[32m SchemaDefRequirement\u001b[0m\n",
      "\u001b[32m    \u001b[0m\u001b[36mtypes\u001b[0m:\n",
      "      -\u001b[36m $import\u001b[0m:\u001b[32m https://raw.githubusercontent.com/eoap/schemas/main/string_format.yaml\u001b[0m\n",
      "\u001b[32m\u001b[0m\u001b[36minputs\u001b[0m:\u001b[36m\u001b[0m\n",
      "\u001b[36m  start_time\u001b[0m:\u001b[36m\u001b[0m\n",
      "\u001b[36m    type\u001b[0m:\u001b[32m https://raw.githubusercontent.com/eoap/schemas/main/string_format.yaml#DateTime\u001b[0m\n",
      "\u001b[32m    \u001b[0m\u001b[36mlabel\u001b[0m:\u001b[32m \"Start Time\"\u001b[0m\u001b[36m\u001b[0m\n",
      "\u001b[36m    doc\u001b[0m:\u001b[32m \"Start time in ISO 8601 format\"\u001b[0m\u001b[36m\u001b[0m\n",
      "\u001b[36m    inputBinding\u001b[0m:\u001b[36m\u001b[0m\n",
      "\u001b[36m      valueFrom\u001b[0m: |\n",
      "\u001b[32m        ${\u001b[0m\n",
      "\u001b[32m          // Parse ISO datetime and extract parts\u001b[0m\n",
      "\u001b[32m          var date = new Date(inputs.start_time.value);\u001b[0m\n",
      "\u001b[32m          if (isNaN(date.getTime())) {\u001b[0m\n",
      "\u001b[32m            throw \"Invalid ISO 8601 date format for start_time.\";\u001b[0m\n",
      "\u001b[32m          }\u001b[0m\n",
      "\u001b[32m\u001b[0m\n",
      "\u001b[32m          var dateParts = [\u001b[0m\n",
      "\u001b[32m            \"Date Breakdown:\",\u001b[0m\n",
      "\u001b[32m            \"Year: \" + date.getUTCFullYear(),\u001b[0m\n",
      "\u001b[32m            \"Month: \" + (date.getUTCMonth() + 1),\u001b[0m\n",
      "\u001b[32m            \"Day: \" + date.getUTCDate(),\u001b[0m\n",
      "\u001b[32m            \"Hour: \" + date.getUTCHours(),\u001b[0m\n",
      "\u001b[32m            \"Minute: \" + date.getUTCMinutes(),\u001b[0m\n",
      "\u001b[32m            \"Second: \" + date.getUTCSeconds()\u001b[0m\n",
      "\u001b[32m          ].join(\", \");\u001b[0m\n",
      "\u001b[32m\u001b[0m\n",
      "\u001b[32m          return dateParts;\u001b[0m\n",
      "\u001b[32m        }\u001b[0m\n",
      "\u001b[32m\u001b[0m\u001b[36moutputs\u001b[0m:\u001b[36m\u001b[0m\n",
      "\u001b[36m  echo_output\u001b[0m:\u001b[36m\u001b[0m\n",
      "\u001b[36m    type\u001b[0m:\u001b[32m stdout\u001b[0m\n",
      "\u001b[32m\u001b[0m\u001b[36mstdout\u001b[0m:\u001b[32m echo_output.txt\u001b[0m\n"
     ]
    }
   ],
   "source": [
    "cat ../examples/string-format/datetime.cwl | yq "
   ]
  },
  {
   "cell_type": "markdown",
   "metadata": {},
   "source": [
    "## Input example"
   ]
  },
  {
   "cell_type": "code",
   "execution_count": 11,
   "metadata": {
    "vscode": {
     "languageId": "shellscript"
    }
   },
   "outputs": [
    {
     "name": "stdout",
     "output_type": "stream",
     "text": [
      "start_time: \n",
      "  class: https://raw.githubusercontent.com/eoap/schemas/main/ogc.yaml#DateTime\n",
      "  value: \"2025-06-15T12:34:56Z\"\n"
     ]
    }
   ],
   "source": [
    "cat ../examples/string-format/datetime.yaml | yq"
   ]
  },
  {
   "cell_type": "markdown",
   "metadata": {},
   "source": [
    "## Execute the example \n",
    "\n",
    "Run the example with:\n",
    "\n",
    "```bash\n",
    "cwltool examples/string-format/datetime.cwl examples/string-format/datetime.yaml\n",
    "```\n",
    "\n",
    "This produces the output:"
   ]
  },
  {
   "cell_type": "code",
   "execution_count": 12,
   "metadata": {
    "vscode": {
     "languageId": "shellscript"
    }
   },
   "outputs": [
    {
     "name": "stdout",
     "output_type": "stream",
     "text": [
      "\u001b[1;30mINFO\u001b[0m /home/fbrito/.local/bin/cwltool 3.1.20250110105449\n",
      "\u001b[1;30mINFO\u001b[0m Resolved '../examples/string-format/datetime.cwl' to 'file:///data/work/github/eoap/schemas/examples/string-format/datetime.cwl'\n",
      "\u001b[1;30mINFO\u001b[0m [job datetime.cwl] /tmp/cr5iczzt$ echo \\\n",
      "    'Date Breakdown:, Year: 2025, Month: 6, Day: 15, Hour: 12, Minute: 34, Second: 56' > /tmp/cr5iczzt/echo_output.txt\n",
      "\u001b[1;30mINFO\u001b[0m [job datetime.cwl] completed success\n",
      "\u001b[1;30mINFO\u001b[0m Final process status is success\n"
     ]
    }
   ],
   "source": [
    "cwltool ../examples/string-format/datetime.cwl ../examples/string-format/datetime.yaml > output.json"
   ]
  },
  {
   "cell_type": "markdown",
   "metadata": {
    "vscode": {
     "languageId": "shellscript"
    }
   },
   "source": [
    "The content of the `echo_output.txt` file is:"
   ]
  },
  {
   "cell_type": "code",
   "execution_count": 13,
   "metadata": {
    "vscode": {
     "languageId": "shellscript"
    }
   },
   "outputs": [
    {
     "name": "stdout",
     "output_type": "stream",
     "text": [
      "Date Breakdown:, Year: 2025, Month: 6, Day: 15, Hour: 12, Minute: 34, Second: 56\n"
     ]
    }
   ],
   "source": [
    "cat $( cat output.json | jq -r .echo_output.path )\n"
   ]
  },
  {
   "cell_type": "markdown",
   "metadata": {},
   "source": []
  }
 ],
 "metadata": {
  "kernelspec": {
   "display_name": "Bash",
   "language": "bash",
   "name": "bash"
  },
  "language_info": {
   "codemirror_mode": "shell",
   "file_extension": ".sh",
   "mimetype": "text/x-sh",
   "name": "bash"
  }
 },
 "nbformat": 4,
 "nbformat_minor": 2
}
