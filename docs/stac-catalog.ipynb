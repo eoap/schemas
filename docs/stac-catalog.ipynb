{
 "cells": [
  {
   "cell_type": "markdown",
   "metadata": {},
   "source": [
    "# STAC Catalog\n"
   ]
  },
  {
   "cell_type": "markdown",
   "metadata": {},
   "source": [
    "## CWL example"
   ]
  },
  {
   "cell_type": "code",
   "execution_count": 1,
   "metadata": {
    "vscode": {
     "languageId": "shellscript"
    }
   },
   "outputs": [
    {
     "name": "stdout",
     "output_type": "stream",
     "text": [
      "\u001b[36mcwlVersion\u001b[0m:\u001b[32m v1.2\u001b[0m\n",
      "\u001b[32m\u001b[0m\u001b[36mclass\u001b[0m:\u001b[32m CommandLineTool\u001b[0m\n",
      "\u001b[32m\u001b[0m\u001b[36mlabel\u001b[0m:\u001b[32m \"Echo STAC Catalog\"\u001b[0m\u001b[36m\u001b[0m\n",
      "\u001b[36mbaseCommand\u001b[0m:\u001b[32m echo\u001b[0m\n",
      "\u001b[32m\u001b[0m\u001b[36mrequirements\u001b[0m:\n",
      "  -\u001b[36m class\u001b[0m:\u001b[32m InlineJavascriptRequirement\u001b[0m\n",
      "\u001b[32m  \u001b[0m-\u001b[36m class\u001b[0m:\u001b[32m SchemaDefRequirement\u001b[0m\n",
      "\u001b[32m    \u001b[0m\u001b[36mtypes\u001b[0m:\n",
      "      -\u001b[36m $import\u001b[0m:\u001b[32m https://raw.githubusercontent.com/eoap/schemas/main/stac.yaml\u001b[0m\n",
      "\u001b[32m\u001b[0m\u001b[36minputs\u001b[0m:\u001b[36m\u001b[0m\n",
      "\u001b[36m  catalog\u001b[0m:\u001b[36m\u001b[0m\n",
      "\u001b[36m    type\u001b[0m:\u001b[32m https://raw.githubusercontent.com/eoap/schemas/main/stac.yaml#Catalog\u001b[0m\n",
      "\u001b[32m    \u001b[0m\u001b[36mlabel\u001b[0m:\u001b[32m \"STAC Catalog\"\u001b[0m\u001b[36m\u001b[0m\n",
      "\u001b[36m    doc\u001b[0m:\u001b[32m \"STAC Catalog defined in STAC format\"\u001b[0m\u001b[36m\u001b[0m\n",
      "\u001b[36m    inputBinding\u001b[0m:\u001b[36m\u001b[0m\n",
      "\u001b[36m      valueFrom\u001b[0m: |\n",
      "\u001b[32m        ${\u001b[0m\n",
      "\u001b[32m          // Validate if type is 'Feature'\u001b[0m\n",
      "\u001b[32m          if (inputs.catalog.type !== 'Catalog') {\u001b[0m\n",
      "\u001b[32m            throw \"Invalid STAC type: expected 'Catalog', got '\" + inputs.catalog.type + \"'\";\u001b[0m\n",
      "\u001b[32m          }\u001b[0m\n",
      "\u001b[32m          // get the STAC Catalog description\u001b[0m\n",
      "\u001b[32m\u001b[0m\n",
      "\u001b[32m          return \"SATC Catalog description: \" + inputs.catalog.description;\u001b[0m\n",
      "\u001b[32m        }\u001b[0m\n",
      "\u001b[32m\u001b[0m\u001b[36moutputs\u001b[0m:\u001b[36m\u001b[0m\n",
      "\u001b[36m  echo_output\u001b[0m:\u001b[36m\u001b[0m\n",
      "\u001b[36m    type\u001b[0m:\u001b[32m stdout\u001b[0m\n",
      "\u001b[32m\u001b[0m\u001b[36mstdout\u001b[0m:\u001b[32m echo_output.txt\u001b[0m\n"
     ]
    }
   ],
   "source": [
    "cat ../examples/stac/stac-catalog.cwl | yq "
   ]
  },
  {
   "cell_type": "markdown",
   "metadata": {},
   "source": [
    "## Input example"
   ]
  },
  {
   "cell_type": "code",
   "execution_count": 2,
   "metadata": {
    "vscode": {
     "languageId": "shellscript"
    }
   },
   "outputs": [
    {
     "name": "stdout",
     "output_type": "stream",
     "text": [
      "\u001b[36mcatalog\u001b[0m:\u001b[36m\u001b[0m\n",
      "\u001b[36m  class\u001b[0m:\u001b[32m \"https://raw.githubusercontent.com/eoap/schemas/main/stac.yaml#Catalog\"\u001b[0m\u001b[36m\u001b[0m\n",
      "\u001b[36m  id\u001b[0m:\u001b[32m \"stac-catalog\"\u001b[0m\u001b[36m\u001b[0m\n",
      "\u001b[36m  type\u001b[0m:\u001b[32m \"Catalog\"\u001b[0m\u001b[36m\u001b[0m\n",
      "\u001b[36m  title\u001b[0m:\u001b[32m \"STAC Catalog Example\"\u001b[0m\u001b[36m\u001b[0m\n",
      "\u001b[36m  description\u001b[0m:\u001b[32m \"An example STAC catalog\"\u001b[0m\u001b[36m\u001b[0m\n",
      "\u001b[36m  stac_version\u001b[0m:\u001b[32m \"1.0.0\"\u001b[0m\u001b[36m\u001b[0m\n",
      "\u001b[36m  stac_extensions\u001b[0m:\n",
      "    -\u001b[32m \"https://raw.githubusercontent.com/radiantearth/stac-api-spec/refs/tags/v1.0.0/extensions/eo/v1.0.0/schema.json\"\u001b[0m\n"
     ]
    }
   ],
   "source": [
    "cat ../examples/stac/stac-catalog.yaml | yq"
   ]
  },
  {
   "cell_type": "markdown",
   "metadata": {},
   "source": [
    "## Execute the example \n",
    "\n",
    "Run the example with:\n",
    "\n",
    "```bash\n",
    "cwltool examples/stac/stac-catalog.cwl examples/stac/stac-catalog.yaml\n",
    "```\n",
    "\n",
    "This produces the output:"
   ]
  },
  {
   "cell_type": "code",
   "execution_count": 4,
   "metadata": {
    "vscode": {
     "languageId": "shellscript"
    }
   },
   "outputs": [
    {
     "name": "stdout",
     "output_type": "stream",
     "text": [
      "\u001b[1;30mINFO\u001b[0m /home/fbrito/.local/bin/cwltool 3.1.20250110105449\n",
      "\u001b[1;30mINFO\u001b[0m Resolved '../examples/stac/stac-catalog.cwl' to 'file:///data/work/github/eoap/schemas/examples/stac/stac-catalog.cwl'\n",
      "\u001b[1;30mWARNING\u001b[0m \u001b[33mhttps://raw.githubusercontent.com/eoap/schemas/main/stac.yaml:173:5: object name 'https://raw.githubusercontent.com/eoap/schemas/main/stac.yaml#Asset/description' previously defined\u001b[0m\n",
      "\u001b[1;30mWARNING\u001b[0m \u001b[33mhttps://raw.githubusercontent.com/eoap/schemas/main/stac.yaml:207:5: object name 'https://raw.githubusercontent.com/eoap/schemas/main/stac.yaml#Asset/roles' previously defined\u001b[0m\n",
      "\u001b[1;30mERROR\u001b[0m \u001b[31mTool definition failed validation:\n",
      "../examples/stac/stac-catalog.cwl:1:1:                                                            \n",
      "                                                                                                   Object\n",
      "                                                                     '../examples/stac/stac-catalog.cwl'\n",
      "                                                                     is not valid because\n",
      "                                                                       tried 'CommandLineTool' but\n",
      "../examples/stac/stac-catalog.cwl:6:1:                                                             \n",
      "                                                                                                          the 'requirements' field\n",
      "                                                                         is not valid because\n",
      "                                                                           tried array of\n",
      "                                                                           <InlineJavascriptRequirement\n",
      "                                                                           or SchemaDefRequirement or\n",
      "                                                                           LoadListingRequirement or\n",
      "                                                                           DockerRequirement or\n",
      "                                                                           SoftwareRequirement or\n",
      "                                                                           InitialWorkDirRequirement or\n",
      "                                                                           EnvVarRequirement or\n",
      "                                                                           ShellCommandRequirement or\n",
      "                                                                           ResourceRequirement or\n",
      "                                                                           WorkReuse or NetworkAccess or\n",
      "                                                                           InplaceUpdateRequirement or\n",
      "                                                                           ToolTimeLimit or\n",
      "                                                                           SubworkflowFeatureRequirement\n",
      "                                                                           or ScatterFeatureRequirement\n",
      "                                                                           or\n",
      "                                                                           MultipleInputFeatureRequirement\n",
      "                                                                           or\n",
      "                                                                           StepInputExpressionRequirement>\n",
      "                                                                           but\n",
      "../examples/stac/stac-catalog.cwl:8:5:                                                             \n",
      "                                                                                                                  item is invalid because\n",
      "../examples/stac/stac-catalog.cwl:9:5:                                                             \n",
      "                                                                                                                      the 'types' field is\n",
      "                                                                               not valid because\n",
      "../examples/stac/stac-catalog.cwl:10:7:                                                            \n",
      "                                                                                                                        item is invalid\n",
      "                                                                                 because\n",
      "                                                                                   - tried\n",
      "                                                                                   CommandInputRecordSchema but\n",
      "https://raw.githubusercontent.com/eoap/schemas/main/stac.yaml:225:3:                 the 'fields'\n",
      "                                                                                     field is not valid because\n",
      "                                                                                       tried array\n",
      "                                                                                       of <CommandInputRecordField>\n",
      "                                                                                       but\n",
      "https://raw.githubusercontent.com/eoap/schemas/main/stac.yaml:226:5:                     item is\n",
      "                                                                                         invalid because\n",
      "https://raw.githubusercontent.com/eoap/schemas/main/stac.yaml:227:5:                       the\n",
      "                                                                                           'type' field is not valid\n",
      "                                                                                           because\n",
      "                                                                                             tried\n",
      "                                                                                             array of <CWLType or\n",
      "                                                                                             CommandInputRecordSchema or\n",
      "                                                                                             CommandInputEnumSchema or\n",
      "                                                                                             CommandInputArraySchema or\n",
      "                                                                                             string> but\n",
      "                                                                                               item\n",
      "                                                                                               is invalid because\n",
      "                                                                                                 -\n",
      "                                                                                                 tried CommandInputRecordSchema\n",
      "                                                                                                 but\n",
      "https://raw.githubusercontent.com/eoap/schemas/main/stac.yaml:228:7:                              \n",
      "                                                                                                   the 'type' field is not valid\n",
      "                                                                                                   because\n",
      "                                                                                                   \n",
      "                                                                                                      the value 'int' is not a\n",
      "                                                                                                     valid\n",
      "                                                                                                     enum_d9cba076fca539106791a4f46d198c7fcfbdb779,\n",
      "                                                                                                     expected 'record'\n",
      "https://raw.githubusercontent.com/eoap/schemas/main/stac.yaml:227:5:                             -\n",
      "                                                                                                 tried CommandInputEnumSchema\n",
      "                                                                                                 but\n",
      "                                                                                                  \n",
      "                                                                                                   * missing required field\n",
      "                                                                                                   'symbols'\n",
      "https://raw.githubusercontent.com/eoap/schemas/main/stac.yaml:228:7:                              \n",
      "                                                                                                   * the 'type' field is not\n",
      "                                                                                                   valid because\n",
      "                                                                                                   \n",
      "                                                                                                      the value 'int' is not a\n",
      "                                                                                                     valid\n",
      "                                                                                                     enum_d961d79c225752b9fadb617367615ab176b47d77,\n",
      "                                                                                                     expected 'enum'\n",
      "https://raw.githubusercontent.com/eoap/schemas/main/stac.yaml:227:5:                             -\n",
      "                                                                                                 tried CommandInputArraySchema\n",
      "                                                                                                 but\n",
      "                                                                                                  \n",
      "                                                                                                   * missing required field\n",
      "                                                                                                   'items'\n",
      "https://raw.githubusercontent.com/eoap/schemas/main/stac.yaml:228:7:                              \n",
      "                                                                                                   * the 'type' field is not\n",
      "                                                                                                   valid because\n",
      "                                                                                                   \n",
      "                                                                                                      the value 'int' is not a\n",
      "                                                                                                     valid\n",
      "                                                                                                     enum_d062602be0b4b8fd33e69e29a841317b6ab665bc,\n",
      "                                                                                                     expected 'array'\n",
      "../examples/stac/stac-catalog.cwl:10:7:                                                            \n",
      "                                                                                                                            - tried\n",
      "                                                                                   CommandInputEnumSchema but\n",
      "                                                                                     * missing\n",
      "                                                                                     required field 'symbols'\n",
      "https://raw.githubusercontent.com/eoap/schemas/main/stac.yaml:223:3:                 * the 'type'\n",
      "                                                                                     field is not valid because\n",
      "                                                                                       the value\n",
      "                                                                                       'record' is not a valid\n",
      "                                                                                       enum_d961d79c225752b9fadb617367615ab176b47d77,\n",
      "                                                                                       expected 'enum'\n",
      "https://raw.githubusercontent.com/eoap/schemas/main/stac.yaml:225:3:                 * invalid\n",
      "                                                                                     field 'fields', expected one\n",
      "                                                                                     of: 'symbols', 'type',\n",
      "                                                                                     'label', 'doc', 'name',\n",
      "                                                                                     'inputBinding'\n",
      "../examples/stac/stac-catalog.cwl:10:7:                                                            \n",
      "                                                                                                                            - tried\n",
      "                                                                                   CommandInputArraySchema but\n",
      "                                                                                     * missing\n",
      "                                                                                     required field 'items'\n",
      "https://raw.githubusercontent.com/eoap/schemas/main/stac.yaml:223:3:                 * the 'type'\n",
      "                                                                                     field is not valid because\n",
      "                                                                                       the value\n",
      "                                                                                       'record' is not a valid\n",
      "                                                                                       enum_d062602be0b4b8fd33e69e29a841317b6ab665bc,\n",
      "                                                                                       expected 'array'\n",
      "https://raw.githubusercontent.com/eoap/schemas/main/stac.yaml:225:3:                 * invalid\n",
      "                                                                                     field 'fields', expected one\n",
      "                                                                                     of: 'items', 'type', 'label',\n",
      "                                                                                     'doc', 'name', 'inputBinding'\u001b[0m\n"
     ]
    },
    {
     "ename": "",
     "evalue": "1",
     "output_type": "error",
     "traceback": []
    }
   ],
   "source": [
    "cwltool ../examples/stac/stac-catalog.cwl ../examples/stac/stac-catalog.yaml > output.json"
   ]
  },
  {
   "cell_type": "markdown",
   "metadata": {
    "vscode": {
     "languageId": "shellscript"
    }
   },
   "source": [
    "The content of the `echo_output.txt` file is:"
   ]
  },
  {
   "cell_type": "code",
   "execution_count": 14,
   "metadata": {
    "vscode": {
     "languageId": "shellscript"
    }
   },
   "outputs": [
    {
     "name": "stdout",
     "output_type": "stream",
     "text": [
      "Feature with id 'aoi-1' is of type: MultiPolygon\n"
     ]
    }
   ],
   "source": [
    "cat $( cat output.json | jq -r .echo_output.path )\n"
   ]
  },
  {
   "cell_type": "markdown",
   "metadata": {},
   "source": []
  }
 ],
 "metadata": {
  "kernelspec": {
   "display_name": "Bash",
   "language": "bash",
   "name": "bash"
  },
  "language_info": {
   "codemirror_mode": "shell",
   "file_extension": ".sh",
   "mimetype": "text/x-sh",
   "name": "bash"
  }
 },
 "nbformat": 4,
 "nbformat_minor": 2
}
