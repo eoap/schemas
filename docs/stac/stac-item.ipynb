{
 "cells": [
  {
   "cell_type": "markdown",
   "metadata": {},
   "source": [
    "# STAC Item\n",
    "\n",
    "[!WARNING]\n",
    "Due to CWL Inputs schema limitations, STAC Item extension can be declared but they are not supported, so STAC Item as value is supported in its Vanilla form only, pass it as a reference as [URI](https://raw.githubusercontent.com/eoap/schemas/refs/heads/main/string_format.yaml) for the full support."
   ]
  },
  {
   "cell_type": "markdown",
   "metadata": {},
   "source": [
    "## CWL example"
   ]
  },
  {
   "cell_type": "code",
   "execution_count": 9,
   "metadata": {
    "vscode": {
     "languageId": "shellscript"
    }
   },
   "outputs": [
    {
     "name": "stdout",
     "output_type": "stream",
     "text": [
      "\u001b[36mcwlVersion\u001b[0m:\u001b[32m v1.2\u001b[0m\n",
      "\u001b[32m\u001b[0m\u001b[36mclass\u001b[0m:\u001b[32m CommandLineTool\u001b[0m\n",
      "\u001b[32m\u001b[0m\u001b[36mlabel\u001b[0m:\u001b[32m \"Echo STAC Item\"\u001b[0m\u001b[36m\u001b[0m\n",
      "\u001b[36mbaseCommand\u001b[0m:\u001b[32m echo\u001b[0m\n",
      "\u001b[32m\u001b[0m\u001b[36mrequirements\u001b[0m:\n",
      "  -\u001b[36m class\u001b[0m:\u001b[32m InlineJavascriptRequirement\u001b[0m\n",
      "\u001b[32m  \u001b[0m-\u001b[36m class\u001b[0m:\u001b[32m SchemaDefRequirement\u001b[0m\n",
      "\u001b[32m    \u001b[0m\u001b[36mtypes\u001b[0m:\n",
      "      -\u001b[36m $import\u001b[0m:\u001b[32m https://raw.githubusercontent.com/eoap/schemas/main/stac.yaml\u001b[0m\n",
      "\u001b[32m\u001b[0m\u001b[36minputs\u001b[0m:\u001b[36m\u001b[0m\n",
      "\u001b[36m  stac_item\u001b[0m:\u001b[36m\u001b[0m\n",
      "\u001b[36m    type\u001b[0m:\u001b[32m https://raw.githubusercontent.com/eoap/schemas/main/stac.yaml#Item\u001b[0m\n",
      "\u001b[32m    \u001b[0m\u001b[36mlabel\u001b[0m:\u001b[32m \"STAC Catalog\"\u001b[0m\u001b[36m\u001b[0m\n",
      "\u001b[36m    doc\u001b[0m:\u001b[32m \"STAC Catalog defined in STAC format\"\u001b[0m\u001b[36m\u001b[0m\n",
      "\u001b[36m    inputBinding\u001b[0m:\u001b[36m\u001b[0m\n",
      "\u001b[36m      valueFrom\u001b[0m: |\n",
      "\u001b[32m        ${\u001b[0m\n",
      "\u001b[32m          // Validate if type is 'Feature'\u001b[0m\n",
      "\u001b[32m          if (inputs.stac_item.type !== 'Item') {\u001b[0m\n",
      "\u001b[32m            throw \"Invalid STAC type: expected 'Item', got '\" + inputs.stac_item.type + \"'\";\u001b[0m\n",
      "\u001b[32m          }\u001b[0m\n",
      "\u001b[32m          // get the STAC Item description\u001b[0m\n",
      "\u001b[32m\u001b[0m\n",
      "\u001b[32m          return \"STAC Item description: \" + inputs.catalog.stac_item.id;\u001b[0m\n",
      "\u001b[32m        }\u001b[0m\n",
      "\u001b[32m\u001b[0m\u001b[36moutputs\u001b[0m:\u001b[36m\u001b[0m\n",
      "\u001b[36m  echo_output\u001b[0m:\u001b[36m\u001b[0m\n",
      "\u001b[36m    type\u001b[0m:\u001b[32m stdout\u001b[0m\n",
      "\u001b[32m\u001b[0m\u001b[36mstdout\u001b[0m:\u001b[32m echo_output.txt\u001b[0m\n"
     ]
    }
   ],
   "source": [
    "cat ../../examples/stac/stac-item.cwl | yq "
   ]
  },
  {
   "cell_type": "markdown",
   "metadata": {},
   "source": [
    "## Input example"
   ]
  },
  {
   "cell_type": "code",
   "execution_count": 10,
   "metadata": {
    "vscode": {
     "languageId": "shellscript"
    }
   },
   "outputs": [
    {
     "name": "stdout",
     "output_type": "stream",
     "text": [
      "\u001b[36mitem\u001b[0m: {\u001b[36m\"type\"\u001b[0m:\u001b[32m \"Feature\"\u001b[0m,\u001b[36m \"stac_version\"\u001b[0m:\u001b[32m \"1.0.0\"\u001b[0m,\u001b[36m \"stac_extensions\"\u001b[0m: [\u001b[32m\"https://stac-extensions.github.io/raster/v1.1.0/schema.json\"\u001b[0m,\u001b[32m \"https://stac-extensions.github.io/eo/v1.1.0/schema.json\"\u001b[0m,\u001b[32m \"https://stac-extensions.github.io/view/v1.0.0/schema.json\"\u001b[0m,\u001b[32m \"https://stac-extensions.github.io/projection/v2.0.0/schema.json\"\u001b[0m,\u001b[32m \"https://landsat.usgs.gov/stac/landsat-extension/v1.1.1/schema.json\"\u001b[0m,\u001b[32m \"https://stac-extensions.github.io/classification/v2.0.0/schema.json\"\u001b[0m,\u001b[32m \"https://stac-extensions.github.io/scientific/v1.0.0/schema.json\"\u001b[0m],\u001b[36m \"id\"\u001b[0m:\u001b[32m \"LC08_L2SP_042033_20231007_02_T1\"\u001b[0m,\u001b[36m \"geometry\"\u001b[0m: {\u001b[36m\"type\"\u001b[0m:\u001b[32m \"Polygon\"\u001b[0m,\u001b[36m \"coordinates\"\u001b[0m: [[[\u001b[95m-119.38821819669329\u001b[0m,\u001b[95m 39.95392906314486\u001b[0m], [\u001b[95m-119.88986331792648\u001b[0m,\u001b[95m 38.23523519887004\u001b[0m], [\u001b[95m-117.83270659643567\u001b[0m,\u001b[95m 37.84365417119595\u001b[0m], [\u001b[95m-117.2780405985925\u001b[0m,\u001b[95m 39.56031274984667\u001b[0m], [\u001b[95m-119.38821819669329\u001b[0m,\u001b[95m 39.95392906314486\u001b[0m]]]},\u001b[36m \"bbox\"\u001b[0m: [\u001b[95m-119.9837203432464\u001b[0m,\u001b[95m 37.8009949508882\u001b[0m,\u001b[95m -117.23393445743163\u001b[0m,\u001b[95m 39.9831550491118\u001b[0m],\u001b[36m \"properties\"\u001b[0m: {\u001b[36m\"gsd\"\u001b[0m:\u001b[95m 30\u001b[0m,\u001b[36m \"created\"\u001b[0m:\u001b[32m \"2023-10-13T09:19:56.326826Z\"\u001b[0m,\u001b[36m \"datetime\"\u001b[0m:\u001b[32m \"2023-10-07T18:33:27.281508Z\"\u001b[0m,\u001b[36m \"platform\"\u001b[0m:\u001b[32m \"landsat-8\"\u001b[0m,\u001b[36m \"description\"\u001b[0m:\u001b[32m \"Landsat Collection 2 Level-2\"\u001b[0m,\u001b[36m \"instruments\"\u001b[0m: [\u001b[32m\"oli\"\u001b[0m,\u001b[32m \"tirs\"\u001b[0m]},\u001b[36m \"links\"\u001b[0m: [{\u001b[36m\"rel\"\u001b[0m:\u001b[32m \"collection\"\u001b[0m,\u001b[36m \"href\"\u001b[0m:\u001b[32m \"https://planetarycomputer.microsoft.com/api/stac/v1/collections/landsat-c2-l2\"\u001b[0m,\u001b[36m \"type\"\u001b[0m:\u001b[32m \"application/json\"\u001b[0m}, {\u001b[36m\"rel\"\u001b[0m:\u001b[32m \"parent\"\u001b[0m,\u001b[36m \"href\"\u001b[0m:\u001b[32m \"https://planetarycomputer.microsoft.com/api/stac/v1/collections/landsat-c2-l2\"\u001b[0m,\u001b[36m \"type\"\u001b[0m:\u001b[32m \"application/json\"\u001b[0m}, {\u001b[36m\"rel\"\u001b[0m:\u001b[32m \"root\"\u001b[0m,\u001b[36m \"href\"\u001b[0m:\u001b[32m \"https://planetarycomputer.microsoft.com/api/stac/v1/\"\u001b[0m,\u001b[36m \"type\"\u001b[0m:\u001b[32m \"application/json\"\u001b[0m}, {\u001b[36m\"rel\"\u001b[0m:\u001b[32m \"cite-as\"\u001b[0m,\u001b[36m \"href\"\u001b[0m:\u001b[32m \"https://doi.org/10.5066/P9OGBGM6\"\u001b[0m,\u001b[36m \"title\"\u001b[0m:\u001b[32m \"Landsat 8-9 OLI/TIRS Collection 2 Level-2\"\u001b[0m}, {\u001b[36m\"rel\"\u001b[0m:\u001b[32m \"via\"\u001b[0m,\u001b[36m \"href\"\u001b[0m:\u001b[32m \"https://landsatlook.usgs.gov/stac-server/collections/landsat-c2l2-sr/items/LC08_L2SP_042033_20231007_20231011_02_T1_SR\"\u001b[0m,\u001b[36m \"type\"\u001b[0m:\u001b[32m \"application/json\"\u001b[0m,\u001b[36m \"title\"\u001b[0m:\u001b[32m \"USGS STAC Item\"\u001b[0m}, {\u001b[36m\"rel\"\u001b[0m:\u001b[32m \"via\"\u001b[0m,\u001b[36m \"href\"\u001b[0m:\u001b[32m \"https://landsatlook.usgs.gov/stac-server/collections/landsat-c2l2-st/items/LC08_L2SP_042033_20231007_20231011_02_T1_ST\"\u001b[0m,\u001b[36m \"type\"\u001b[0m:\u001b[32m \"application/json\"\u001b[0m,\u001b[36m \"title\"\u001b[0m:\u001b[32m \"USGS STAC Item\"\u001b[0m}, {\u001b[36m\"rel\"\u001b[0m:\u001b[32m \"preview\"\u001b[0m,\u001b[36m \"href\"\u001b[0m:\u001b[32m \"https://planetarycomputer.microsoft.com/api/data/v1/item/map?collection=landsat-c2-l2&item=LC08_L2SP_042033_20231007_02_T1\"\u001b[0m,\u001b[36m \"type\"\u001b[0m:\u001b[32m \"text/html\"\u001b[0m,\u001b[36m \"title\"\u001b[0m:\u001b[32m \"Map of item\"\u001b[0m}, {\u001b[36m\"rel\"\u001b[0m:\u001b[32m \"derived_from\"\u001b[0m,\u001b[36m \"href\"\u001b[0m:\u001b[32m \"https://planetarycomputer.microsoft.com/api/stac/v1/collections/landsat-c2-l2/items/LC08_L2SP_042033_20231007_02_T1\"\u001b[0m}, {\u001b[36m\"rel\"\u001b[0m:\u001b[32m \"self\"\u001b[0m,\u001b[36m \"href\"\u001b[0m:\u001b[32m \"/data/work/github/eoap/application-package-patterns/data/LC08_L2SP_042033_20231007_02_T1/LC08_L2SP_042033_20231007_02_T1.json\"\u001b[0m,\u001b[36m \"type\"\u001b[0m:\u001b[32m \"application/json\"\u001b[0m}],\u001b[36m \"assets\"\u001b[0m: {\u001b[36m\"qa\"\u001b[0m: {\u001b[36m\"href\"\u001b[0m:\u001b[32m \"LC08_L2SP_042033_20231007_20231011_02_T1_ST_QA.TIF\"\u001b[0m,\u001b[36m \"type\"\u001b[0m:\u001b[32m \"image/tiff; application=geotiff; profile=cloud-optimized\"\u001b[0m,\u001b[36m \"title\"\u001b[0m:\u001b[32m \"Surface Temperature Quality Assessment Band\"\u001b[0m,\u001b[36m \"description\"\u001b[0m:\u001b[32m \"Collection 2 Level-2 Quality Assessment Band (ST_QA) Surface Temperature Product\"\u001b[0m,\u001b[36m \"roles\"\u001b[0m: [\u001b[32m\"data\"\u001b[0m]},\u001b[36m \"ang\"\u001b[0m: {\u001b[36m\"href\"\u001b[0m:\u001b[32m \"LC08_L2SP_042033_20231007_20231011_02_T1_ANG.txt\"\u001b[0m,\u001b[36m \"type\"\u001b[0m:\u001b[32m \"text/plain\"\u001b[0m,\u001b[36m \"title\"\u001b[0m:\u001b[32m \"Angle Coefficients File\"\u001b[0m,\u001b[36m \"description\"\u001b[0m:\u001b[32m \"Collection 2 Level-1 Angle Coefficients File\"\u001b[0m,\u001b[36m \"roles\"\u001b[0m: [\u001b[32m\"metadata\"\u001b[0m]},\u001b[36m \"red\"\u001b[0m: {\u001b[36m\"href\"\u001b[0m:\u001b[32m \"LC08_L2SP_042033_20231007_20231011_02_T1_SR_B4.TIF\"\u001b[0m,\u001b[36m \"type\"\u001b[0m:\u001b[32m \"image/tiff; application=geotiff; profile=cloud-optimized\"\u001b[0m,\u001b[36m \"title\"\u001b[0m:\u001b[32m \"Red Band\"\u001b[0m,\u001b[36m \"description\"\u001b[0m:\u001b[32m \"Collection 2 Level-2 Red Band (SR_B4) Surface Reflectance\"\u001b[0m,\u001b[36m \"roles\"\u001b[0m: [\u001b[32m\"data\"\u001b[0m,\u001b[32m \"reflectance\"\u001b[0m]},\u001b[36m \"blue\"\u001b[0m: {\u001b[36m\"href\"\u001b[0m:\u001b[32m \"LC08_L2SP_042033_20231007_20231011_02_T1_SR_B2.TIF\"\u001b[0m,\u001b[36m \"type\"\u001b[0m:\u001b[32m \"image/tiff; application=geotiff; profile=cloud-optimized\"\u001b[0m,\u001b[36m \"title\"\u001b[0m:\u001b[32m \"Blue Band\"\u001b[0m,\u001b[36m \"description\"\u001b[0m:\u001b[32m \"Collection 2 Level-2 Blue Band (SR_B2) Surface Reflectance\"\u001b[0m,\u001b[36m \"roles\"\u001b[0m: [\u001b[32m\"data\"\u001b[0m,\u001b[32m \"reflectance\"\u001b[0m]},\u001b[36m \"drad\"\u001b[0m: {\u001b[36m\"href\"\u001b[0m:\u001b[32m \"LC08_L2SP_042033_20231007_20231011_02_T1_ST_DRAD.TIF\"\u001b[0m,\u001b[36m \"type\"\u001b[0m:\u001b[32m \"image/tiff; application=geotiff; profile=cloud-optimized\"\u001b[0m,\u001b[36m \"title\"\u001b[0m:\u001b[32m \"Downwelled Radiance Band\"\u001b[0m,\u001b[36m \"description\"\u001b[0m:\u001b[32m \"Collection 2 Level-2 Downwelled Radiance Band (ST_DRAD) Surface Temperature Product\"\u001b[0m,\u001b[36m \"roles\"\u001b[0m: [\u001b[32m\"data\"\u001b[0m]},\u001b[36m \"emis\"\u001b[0m: {\u001b[36m\"href\"\u001b[0m:\u001b[32m \"LC08_L2SP_042033_20231007_20231011_02_T1_ST_EMIS.TIF\"\u001b[0m,\u001b[36m \"type\"\u001b[0m:\u001b[32m \"image/tiff; application=geotiff; profile=cloud-optimized\"\u001b[0m,\u001b[36m \"title\"\u001b[0m:\u001b[32m \"Emissivity Band\"\u001b[0m,\u001b[36m \"description\"\u001b[0m:\u001b[32m \"Collection 2 Level-2 Emissivity Band (ST_EMIS) Surface Temperature Product\"\u001b[0m,\u001b[36m \"roles\"\u001b[0m: [\u001b[32m\"data\"\u001b[0m]},\u001b[36m \"emsd\"\u001b[0m: {\u001b[36m\"href\"\u001b[0m:\u001b[32m \"LC08_L2SP_042033_20231007_20231011_02_T1_ST_EMSD.TIF\"\u001b[0m,\u001b[36m \"type\"\u001b[0m:\u001b[32m \"image/tiff; application=geotiff; profile=cloud-optimized\"\u001b[0m,\u001b[36m \"title\"\u001b[0m:\u001b[32m \"Emissivity Standard Deviation Band\"\u001b[0m,\u001b[36m \"description\"\u001b[0m:\u001b[32m \"Collection 2 Level-2 Emissivity Standard Deviation Band (ST_EMSD) Surface Temperature Product\"\u001b[0m,\u001b[36m \"roles\"\u001b[0m: [\u001b[32m\"data\"\u001b[0m]},\u001b[36m \"trad\"\u001b[0m: {\u001b[36m\"href\"\u001b[0m:\u001b[32m \"LC08_L2SP_042033_20231007_20231011_02_T1_ST_TRAD.TIF\"\u001b[0m,\u001b[36m \"type\"\u001b[0m:\u001b[32m \"image/tiff; application=geotiff; profile=cloud-optimized\"\u001b[0m,\u001b[36m \"title\"\u001b[0m:\u001b[32m \"Thermal Radiance Band\"\u001b[0m,\u001b[36m \"description\"\u001b[0m:\u001b[32m \"Collection 2 Level-2 Thermal Radiance Band (ST_TRAD) Surface Temperature Product\"\u001b[0m,\u001b[36m \"roles\"\u001b[0m: [\u001b[32m\"data\"\u001b[0m]},\u001b[36m \"urad\"\u001b[0m: {\u001b[36m\"href\"\u001b[0m:\u001b[32m \"LC08_L2SP_042033_20231007_20231011_02_T1_ST_URAD.TIF\"\u001b[0m,\u001b[36m \"type\"\u001b[0m:\u001b[32m \"image/tiff; application=geotiff; profile=cloud-optimized\"\u001b[0m,\u001b[36m \"title\"\u001b[0m:\u001b[32m \"Upwelled Radiance Band\"\u001b[0m,\u001b[36m \"description\"\u001b[0m:\u001b[32m \"Collection 2 Level-2 Upwelled Radiance Band (ST_URAD) Surface Temperature Product\"\u001b[0m,\u001b[36m \"roles\"\u001b[0m: [\u001b[32m\"data\"\u001b[0m]},\u001b[36m \"atran\"\u001b[0m: {\u001b[36m\"href\"\u001b[0m:\u001b[32m \"LC08_L2SP_042033_20231007_20231011_02_T1_ST_ATRAN.TIF\"\u001b[0m,\u001b[36m \"type\"\u001b[0m:\u001b[32m \"image/tiff; application=geotiff; profile=cloud-optimized\"\u001b[0m,\u001b[36m \"title\"\u001b[0m:\u001b[32m \"Atmospheric Transmittance Band\"\u001b[0m,\u001b[36m \"description\"\u001b[0m:\u001b[32m \"Collection 2 Level-2 Atmospheric Transmittance Band (ST_ATRAN) Surface Temperature Product\"\u001b[0m,\u001b[36m \"roles\"\u001b[0m: [\u001b[32m\"data\"\u001b[0m]},\u001b[36m \"cdist\"\u001b[0m: {\u001b[36m\"href\"\u001b[0m:\u001b[32m \"LC08_L2SP_042033_20231007_20231011_02_T1_ST_CDIST.TIF\"\u001b[0m,\u001b[36m \"type\"\u001b[0m:\u001b[32m \"image/tiff; application=geotiff; profile=cloud-optimized\"\u001b[0m,\u001b[36m \"title\"\u001b[0m:\u001b[32m \"Cloud Distance Band\"\u001b[0m,\u001b[36m \"description\"\u001b[0m:\u001b[32m \"Collection 2 Level-2 Cloud Distance Band (ST_CDIST) Surface Temperature Product\"\u001b[0m,\u001b[36m \"roles\"\u001b[0m: [\u001b[32m\"data\"\u001b[0m]},\u001b[36m \"green\"\u001b[0m: {\u001b[36m\"href\"\u001b[0m:\u001b[32m \"LC08_L2SP_042033_20231007_20231011_02_T1_SR_B3.TIF\"\u001b[0m,\u001b[36m \"type\"\u001b[0m:\u001b[32m \"image/tiff; application=geotiff; profile=cloud-optimized\"\u001b[0m,\u001b[36m \"title\"\u001b[0m:\u001b[32m \"Green Band\"\u001b[0m,\u001b[36m \"description\"\u001b[0m:\u001b[32m \"Collection 2 Level-2 Green Band (SR_B3) Surface Reflectance\"\u001b[0m,\u001b[36m \"roles\"\u001b[0m: [\u001b[32m\"data\"\u001b[0m,\u001b[32m \"reflectance\"\u001b[0m]},\u001b[36m \"nir08\"\u001b[0m: {\u001b[36m\"href\"\u001b[0m:\u001b[32m \"LC08_L2SP_042033_20231007_20231011_02_T1_SR_B5.TIF\"\u001b[0m,\u001b[36m \"type\"\u001b[0m:\u001b[32m \"image/tiff; application=geotiff; profile=cloud-optimized\"\u001b[0m,\u001b[36m \"title\"\u001b[0m:\u001b[32m \"Near Infrared Band 0.8\"\u001b[0m,\u001b[36m \"description\"\u001b[0m:\u001b[32m \"Collection 2 Level-2 Near Infrared Band 0.8 (SR_B5) Surface Reflectance\"\u001b[0m,\u001b[36m \"roles\"\u001b[0m: [\u001b[32m\"data\"\u001b[0m,\u001b[32m \"reflectance\"\u001b[0m]},\u001b[36m \"lwir11\"\u001b[0m: {\u001b[36m\"href\"\u001b[0m:\u001b[32m \"LC08_L2SP_042033_20231007_20231011_02_T1_ST_B10.TIF\"\u001b[0m,\u001b[36m \"type\"\u001b[0m:\u001b[32m \"image/tiff; application=geotiff; profile=cloud-optimized\"\u001b[0m,\u001b[36m \"title\"\u001b[0m:\u001b[32m \"Surface Temperature Band\"\u001b[0m,\u001b[36m \"description\"\u001b[0m:\u001b[32m \"Collection 2 Level-2 Thermal Infrared Band (ST_B10) Surface Temperature\"\u001b[0m,\u001b[36m \"gsd\"\u001b[0m:\u001b[95m 100\u001b[0m,\u001b[36m \"roles\"\u001b[0m: [\u001b[32m\"data\"\u001b[0m,\u001b[32m \"temperature\"\u001b[0m]},\u001b[36m \"swir16\"\u001b[0m: {\u001b[36m\"href\"\u001b[0m:\u001b[32m \"LC08_L2SP_042033_20231007_20231011_02_T1_SR_B6.TIF\"\u001b[0m,\u001b[36m \"type\"\u001b[0m:\u001b[32m \"image/tiff; application=geotiff; profile=cloud-optimized\"\u001b[0m,\u001b[36m \"title\"\u001b[0m:\u001b[32m \"Short-wave Infrared Band 1.6\"\u001b[0m,\u001b[36m \"description\"\u001b[0m:\u001b[32m \"Collection 2 Level-2 Short-wave Infrared Band 1.6 (SR_B6) Surface Reflectance\"\u001b[0m,\u001b[36m \"roles\"\u001b[0m: [\u001b[32m\"data\"\u001b[0m,\u001b[32m \"reflectance\"\u001b[0m]},\u001b[36m \"swir22\"\u001b[0m: {\u001b[36m\"href\"\u001b[0m:\u001b[32m \"LC08_L2SP_042033_20231007_20231011_02_T1_SR_B7.TIF\"\u001b[0m,\u001b[36m \"type\"\u001b[0m:\u001b[32m \"image/tiff; application=geotiff; profile=cloud-optimized\"\u001b[0m,\u001b[36m \"title\"\u001b[0m:\u001b[32m \"Short-wave Infrared Band 2.2\"\u001b[0m,\u001b[36m \"description\"\u001b[0m:\u001b[32m \"Collection 2 Level-2 Short-wave Infrared Band 2.2 (SR_B7) Surface Reflectance\"\u001b[0m,\u001b[36m \"roles\"\u001b[0m: [\u001b[32m\"data\"\u001b[0m,\u001b[32m \"reflectance\"\u001b[0m]},\u001b[36m \"coastal\"\u001b[0m: {\u001b[36m\"href\"\u001b[0m:\u001b[32m \"LC08_L2SP_042033_20231007_20231011_02_T1_SR_B1.TIF\"\u001b[0m,\u001b[36m \"type\"\u001b[0m:\u001b[32m \"image/tiff; application=geotiff; profile=cloud-optimized\"\u001b[0m,\u001b[36m \"title\"\u001b[0m:\u001b[32m \"Coastal/Aerosol Band\"\u001b[0m,\u001b[36m \"description\"\u001b[0m:\u001b[32m \"Collection 2 Level-2 Coastal/Aerosol Band (SR_B1) Surface Reflectance\"\u001b[0m,\u001b[36m \"roles\"\u001b[0m: [\u001b[32m\"data\"\u001b[0m,\u001b[32m \"reflectance\"\u001b[0m]},\u001b[36m \"mtl.txt\"\u001b[0m: {\u001b[36m\"href\"\u001b[0m:\u001b[32m \"LC08_L2SP_042033_20231007_20231011_02_T1_MTL.txt\"\u001b[0m,\u001b[36m \"type\"\u001b[0m:\u001b[32m \"text/plain\"\u001b[0m,\u001b[36m \"title\"\u001b[0m:\u001b[32m \"Product Metadata File (txt)\"\u001b[0m,\u001b[36m \"description\"\u001b[0m:\u001b[32m \"Collection 2 Level-2 Product Metadata File (txt)\"\u001b[0m,\u001b[36m \"roles\"\u001b[0m: [\u001b[32m\"metadata\"\u001b[0m]},\u001b[36m \"mtl.xml\"\u001b[0m: {\u001b[36m\"href\"\u001b[0m:\u001b[32m \"LC08_L2SP_042033_20231007_20231011_02_T1_MTL.xml\"\u001b[0m,\u001b[36m \"type\"\u001b[0m:\u001b[32m \"application/xml\"\u001b[0m,\u001b[36m \"title\"\u001b[0m:\u001b[32m \"Product Metadata File (xml)\"\u001b[0m,\u001b[36m \"description\"\u001b[0m:\u001b[32m \"Collection 2 Level-2 Product Metadata File (xml)\"\u001b[0m,\u001b[36m \"roles\"\u001b[0m: [\u001b[32m\"metadata\"\u001b[0m]},\u001b[36m \"mtl.json\"\u001b[0m: {\u001b[36m\"href\"\u001b[0m:\u001b[32m \"LC08_L2SP_042033_20231007_20231011_02_T1_MTL.json\"\u001b[0m,\u001b[36m \"type\"\u001b[0m:\u001b[32m \"application/json\"\u001b[0m,\u001b[36m \"title\"\u001b[0m:\u001b[32m \"Product Metadata File (json)\"\u001b[0m,\u001b[36m \"description\"\u001b[0m:\u001b[32m \"Collection 2 Level-2 Product Metadata File (json)\"\u001b[0m,\u001b[36m \"roles\"\u001b[0m: [\u001b[32m\"metadata\"\u001b[0m]},\u001b[36m \"qa_pixel\"\u001b[0m: {\u001b[36m\"href\"\u001b[0m:\u001b[32m \"LC08_L2SP_042033_20231007_20231011_02_T1_QA_PIXEL.TIF\"\u001b[0m,\u001b[36m \"type\"\u001b[0m:\u001b[32m \"image/tiff; application=geotiff; profile=cloud-optimized\"\u001b[0m,\u001b[36m \"title\"\u001b[0m:\u001b[32m \"Pixel Quality Assessment Band\"\u001b[0m,\u001b[36m \"description\"\u001b[0m:\u001b[32m \"Collection 2 Level-1 Pixel Quality Assessment Band (QA_PIXEL)\"\u001b[0m,\u001b[36m \"roles\"\u001b[0m: [\u001b[32m\"cloud\"\u001b[0m,\u001b[32m \"cloud-shadow\"\u001b[0m,\u001b[32m \"snow-ice\"\u001b[0m,\u001b[32m \"water-mask\"\u001b[0m]},\u001b[36m \"qa_radsat\"\u001b[0m: {\u001b[36m\"href\"\u001b[0m:\u001b[32m \"LC08_L2SP_042033_20231007_20231011_02_T1_QA_RADSAT.TIF\"\u001b[0m,\u001b[36m \"type\"\u001b[0m:\u001b[32m \"image/tiff; application=geotiff; profile=cloud-optimized\"\u001b[0m,\u001b[36m \"title\"\u001b[0m:\u001b[32m \"Radiometric Saturation and Terrain Occlusion Quality Assessment Band\"\u001b[0m,\u001b[36m \"description\"\u001b[0m:\u001b[32m \"Collection 2 Level-1 Radiometric Saturation and Terrain Occlusion Quality Assessment Band (QA_RADSAT)\"\u001b[0m,\u001b[36m \"roles\"\u001b[0m: [\u001b[32m\"saturation\"\u001b[0m]},\u001b[36m \"qa_aerosol\"\u001b[0m: {\u001b[36m\"href\"\u001b[0m:\u001b[32m \"LC08_L2SP_042033_20231007_20231011_02_T1_SR_QA_AEROSOL.TIF\"\u001b[0m,\u001b[36m \"type\"\u001b[0m:\u001b[32m \"image/tiff; application=geotiff; profile=cloud-optimized\"\u001b[0m,\u001b[36m \"title\"\u001b[0m:\u001b[32m \"Aerosol Quality Assessment Band\"\u001b[0m,\u001b[36m \"description\"\u001b[0m:\u001b[32m \"Collection 2 Level-2 Aerosol Quality Assessment Band (SR_QA_AEROSOL) Surface Reflectance Product\"\u001b[0m,\u001b[36m \"roles\"\u001b[0m: [\u001b[32m\"data-mask\"\u001b[0m,\u001b[32m \"water-mask\"\u001b[0m]},\u001b[36m \"tilejson\"\u001b[0m: {\u001b[36m\"href\"\u001b[0m:\u001b[32m \"tilejson.json\"\u001b[0m,\u001b[36m \"type\"\u001b[0m:\u001b[32m \"application/json\"\u001b[0m,\u001b[36m \"title\"\u001b[0m:\u001b[32m \"TileJSON with default rendering\"\u001b[0m,\u001b[36m \"roles\"\u001b[0m: [\u001b[32m\"tiles\"\u001b[0m]},\u001b[36m \"rendered_preview\"\u001b[0m: {\u001b[36m\"href\"\u001b[0m:\u001b[32m \"preview.png\"\u001b[0m,\u001b[36m \"type\"\u001b[0m:\u001b[32m \"image/png\"\u001b[0m,\u001b[36m \"title\"\u001b[0m:\u001b[32m \"Rendered preview\"\u001b[0m,\u001b[36m \"rel\"\u001b[0m:\u001b[32m \"preview\"\u001b[0m,\u001b[36m \"roles\"\u001b[0m: [\u001b[32m\"overview\"\u001b[0m]}},\u001b[36m \"collection\"\u001b[0m:\u001b[32m \"landsat-c2-l2\"\u001b[0m}\n"
     ]
    }
   ],
   "source": [
    "cat ../../examples/stac/stac-item.yaml | yq"
   ]
  },
  {
   "cell_type": "markdown",
   "metadata": {},
   "source": [
    "## Execute the example \n",
    "\n",
    "Run the example with:\n",
    "\n",
    "```bash\n",
    "cwltool examples/stac/stac-catalog.cwl examples/stac/stac-catalog.yaml\n",
    "```\n",
    "\n",
    "This produces the output:"
   ]
  },
  {
   "cell_type": "code",
   "execution_count": 11,
   "metadata": {
    "vscode": {
     "languageId": "shellscript"
    }
   },
   "outputs": [],
   "source": [
    "# cwltool ../../examples/stac/stac-item.cwl ../../examples/stac/stac-item.yaml > output.json"
   ]
  },
  {
   "cell_type": "markdown",
   "metadata": {
    "vscode": {
     "languageId": "shellscript"
    }
   },
   "source": [
    "The content of the `echo_output.txt` file is:"
   ]
  },
  {
   "cell_type": "code",
   "execution_count": 12,
   "metadata": {
    "vscode": {
     "languageId": "shellscript"
    }
   },
   "outputs": [],
   "source": [
    "# cat $( cat output.json | jq -r .echo_output.path )\n"
   ]
  },
  {
   "cell_type": "markdown",
   "metadata": {},
   "source": []
  }
 ],
 "metadata": {
  "kernelspec": {
   "display_name": "Bash",
   "language": "bash",
   "name": "bash"
  },
  "language_info": {
   "codemirror_mode": "shell",
   "file_extension": ".sh",
   "mimetype": "text/x-sh",
   "name": "bash"
  }
 },
 "nbformat": 4,
 "nbformat_minor": 2
}
