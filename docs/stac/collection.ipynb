{
 "cells": [
  {
   "cell_type": "markdown",
   "metadata": {},
   "source": [
    "# STAC Collection"
   ]
  },
  {
   "cell_type": "markdown",
   "metadata": {},
   "source": [
    "## CWL example"
   ]
  },
  {
   "cell_type": "code",
   "execution_count": 5,
   "metadata": {
    "vscode": {
     "languageId": "shellscript"
    }
   },
   "outputs": [
    {
     "name": "stdout",
     "output_type": "stream",
     "text": [
      "\u001b[36mcwlVersion\u001b[0m:\u001b[32m v1.2\u001b[0m\n",
      "\u001b[32m\u001b[0m\u001b[36mclass\u001b[0m:\u001b[32m CommandLineTool\u001b[0m\n",
      "\u001b[32m\u001b[0m\u001b[36mlabel\u001b[0m:\u001b[32m \"Echo STAC Collection\"\u001b[0m\u001b[36m\u001b[0m\n",
      "\u001b[36mbaseCommand\u001b[0m:\u001b[32m echo\u001b[0m\n",
      "\u001b[32m\u001b[0m\u001b[36mrequirements\u001b[0m:\n",
      "  -\u001b[36m class\u001b[0m:\u001b[32m InlineJavascriptRequirement\u001b[0m\n",
      "\u001b[32m  \u001b[0m-\u001b[36m class\u001b[0m:\u001b[32m SchemaDefRequirement\u001b[0m\n",
      "\u001b[32m    \u001b[0m\u001b[36mtypes\u001b[0m:\n",
      "      -\u001b[36m $import\u001b[0m:\u001b[32m https://raw.githubusercontent.com/eoap/schemas/main/stac.yaml\u001b[0m\n",
      "\u001b[32m\u001b[0m\u001b[36minputs\u001b[0m:\u001b[36m\u001b[0m\n",
      "\u001b[36m  stac_collection\u001b[0m:\u001b[36m\u001b[0m\n",
      "\u001b[36m    type\u001b[0m:\u001b[32m https://raw.githubusercontent.com/eoap/schemas/main/stac.yaml#Collection\u001b[0m\n",
      "\u001b[32m    \u001b[0m\u001b[36mlabel\u001b[0m:\u001b[32m \"STAC Collection\"\u001b[0m\u001b[36m\u001b[0m\n",
      "\u001b[36m    doc\u001b[0m:\u001b[32m \"STAC Collection defined in STAC format\"\u001b[0m\u001b[36m\u001b[0m\n",
      "\u001b[36m    inputBinding\u001b[0m:\u001b[36m\u001b[0m\n",
      "\u001b[36m      valueFrom\u001b[0m: |\n",
      "\u001b[32m        ${\u001b[0m\n",
      "\u001b[32m          // Validate if type is 'Collection'\u001b[0m\n",
      "\u001b[32m          if ('Collection' !== inputs.stac_collection.type) {\u001b[0m\n",
      "\u001b[32m            throw \"Invalid STAC type: expected 'Collection', got '\" + inputs.stac_collection.type + \"'\";\u001b[0m\n",
      "\u001b[32m          }\u001b[0m\n",
      "\u001b[32m          // get the STAC Collection description\u001b[0m\n",
      "\u001b[32m\u001b[0m\n",
      "\u001b[32m          return \"STAC Collection ID: \" + inputs.stac_collection.id;\u001b[0m\n",
      "\u001b[32m        }\u001b[0m\n",
      "\u001b[32m\u001b[0m\u001b[36moutputs\u001b[0m:\u001b[36m\u001b[0m\n",
      "\u001b[36m  echo_output\u001b[0m:\u001b[36m\u001b[0m\n",
      "\u001b[36m    type\u001b[0m:\u001b[32m stdout\u001b[0m\n",
      "\u001b[32m\u001b[0m\u001b[36mstdout\u001b[0m:\u001b[32m echo_output.txt\u001b[0m\n"
     ]
    }
   ],
   "source": [
    "cat ../../examples/stac/collection.cwl | yq "
   ]
  },
  {
   "cell_type": "markdown",
   "metadata": {},
   "source": [
    "## Input example"
   ]
  },
  {
   "cell_type": "code",
   "execution_count": 6,
   "metadata": {
    "vscode": {
     "languageId": "shellscript"
    }
   },
   "outputs": [
    {
     "name": "stdout",
     "output_type": "stream",
     "text": [
      "\u001b[36mstac_collection\u001b[0m:\u001b[36m\u001b[0m\n",
      "\u001b[36m  stac_version\u001b[0m:\u001b[32m \"1.0.0\"\u001b[0m\u001b[36m\u001b[0m\n",
      "\u001b[36m  type\u001b[0m:\u001b[32m \"Collection\"\u001b[0m\u001b[36m\u001b[0m\n",
      "\u001b[36m  id\u001b[0m:\u001b[32m collection-id\u001b[0m\n",
      "\u001b[32m  \u001b[0m\u001b[36mdescription\u001b[0m:\u001b[32m a collection description\u001b[0m\n",
      "\u001b[32m  \u001b[0m\u001b[36mlicense\u001b[0m:\u001b[32m 'Creative Commons Attribution-ShareAlike 4.0 International'\u001b[0m\u001b[36m\u001b[0m\n",
      "\u001b[36m  links\u001b[0m:\n",
      "    -\u001b[36m rel\u001b[0m:\u001b[32m \"self\"\u001b[0m\u001b[36m\u001b[0m\n",
      "\u001b[36m      href\u001b[0m:\u001b[32m \"./item.json\"\u001b[0m\u001b[36m\u001b[0m\n",
      "\u001b[36m      type\u001b[0m:\u001b[32m \"application/json\"\u001b[0m\u001b[36m\u001b[0m\n",
      "\u001b[36m      title\u001b[0m:\u001b[32m \"This collection\"\u001b[0m\n"
     ]
    }
   ],
   "source": [
    "cat ../../examples/stac/collection.yaml | yq"
   ]
  },
  {
   "cell_type": "markdown",
   "metadata": {},
   "source": [
    "## Execute the example \n",
    "\n",
    "Run the example with:\n",
    "\n",
    "```bash\n",
    "cwltool examples/stac/collection.cwl examples/stac/collection.yaml\n",
    "```\n",
    "\n",
    "This produces the output:"
   ]
  },
  {
   "cell_type": "code",
   "execution_count": 7,
   "metadata": {
    "vscode": {
     "languageId": "shellscript"
    }
   },
   "outputs": [
    {
     "name": "stdout",
     "output_type": "stream",
     "text": [
      "\u001b[1;30mINFO\u001b[0m /home/stripodi/.local/bin/cwltool 3.1.20250110105449\n",
      "\u001b[1;30mINFO\u001b[0m Resolved '../../examples/stac/collection.cwl' to 'file:///home/stripodi/Documents/workspace/schemas/examples/stac/collection.cwl'\n",
      "\u001b[1;30mINFO\u001b[0m [job collection.cwl] /tmp/z65jt_fd$ echo \\\n",
      "    'STAC Collection ID: collection-id' > /tmp/z65jt_fd/echo_output.txt\n",
      "\u001b[1;30mINFO\u001b[0m [job collection.cwl] completed success\n",
      "\u001b[1;30mINFO\u001b[0m Final process status is success\n"
     ]
    }
   ],
   "source": [
    "cwltool ../../examples/stac/collection.cwl ../../examples/stac/collection.yaml > output.json"
   ]
  },
  {
   "cell_type": "markdown",
   "metadata": {
    "vscode": {
     "languageId": "shellscript"
    }
   },
   "source": [
    "The content of the `echo_output.txt` file is:"
   ]
  },
  {
   "cell_type": "code",
   "execution_count": 8,
   "metadata": {
    "vscode": {
     "languageId": "shellscript"
    }
   },
   "outputs": [
    {
     "name": "stdout",
     "output_type": "stream",
     "text": [
      "STAC Collection ID: collection-id\n"
     ]
    }
   ],
   "source": [
    "cat $( cat output.json | jq -r .echo_output.path )\n"
   ]
  },
  {
   "cell_type": "markdown",
   "metadata": {},
   "source": []
  }
 ],
 "metadata": {
  "kernelspec": {
   "display_name": "Bash",
   "language": "bash",
   "name": "bash"
  },
  "language_info": {
   "codemirror_mode": "shell",
   "file_extension": ".sh",
   "mimetype": "text/x-sh",
   "name": "bash"
  }
 },
 "nbformat": 4,
 "nbformat_minor": 2
}
