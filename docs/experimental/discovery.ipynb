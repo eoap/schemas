{
 "cells": [
  {
   "cell_type": "markdown",
   "metadata": {},
   "source": [
    "# Experimental Discovery Inputs"
   ]
  },
  {
   "cell_type": "markdown",
   "metadata": {},
   "source": [
    "## CWL example"
   ]
  },
  {
   "cell_type": "code",
   "execution_count": 1,
   "metadata": {
    "vscode": {
     "languageId": "shellscript"
    }
   },
   "outputs": [
    {
     "name": "stdout",
     "output_type": "stream",
     "text": [
      "\u001b[36mcwlVersion\u001b[0m:\u001b[32m v1.2\u001b[0m\n",
      "\u001b[32m\u001b[0m\u001b[36mclass\u001b[0m:\u001b[32m CommandLineTool\u001b[0m\n",
      "\u001b[32m\u001b[0m\u001b[36mlabel\u001b[0m:\u001b[32m \"geo API\"\u001b[0m\u001b[36m\u001b[0m\n",
      "\u001b[36mbaseCommand\u001b[0m:\u001b[32m cat\u001b[0m\n",
      "\u001b[32m\u001b[0m\u001b[36mrequirements\u001b[0m:\n",
      "  -\u001b[36m class\u001b[0m:\u001b[32m InlineJavascriptRequirement\u001b[0m\n",
      "\u001b[32m  \u001b[0m-\u001b[36m class\u001b[0m:\u001b[32m SchemaDefRequirement\u001b[0m\n",
      "\u001b[32m    \u001b[0m\u001b[36mtypes\u001b[0m:\n",
      "      -\u001b[36m $import\u001b[0m:\u001b[32m https://raw.githubusercontent.com/eoap/schemas/main/experimental/api-endpoint.yaml\u001b[0m\n",
      "\u001b[32m      \u001b[0m-\u001b[36m $import\u001b[0m:\u001b[32m https://raw.githubusercontent.com/eoap/schemas/main/experimental/discovery.yaml\u001b[0m\n",
      "\u001b[32m\u001b[0m\u001b[90m#   - class: InitialWorkDirRequirement\u001b[0m\n",
      "\u001b[90m\u001b[0m\u001b[90m#     listing:\u001b[0m\n",
      "\u001b[90m\u001b[0m\u001b[90m#       - entryname: inputs.yaml\u001b[0m\n",
      "\u001b[90m\u001b[0m\u001b[90m#         entry: |-\u001b[0m\n",
      "\u001b[90m\u001b[0m\u001b[90m#           $(inputs.api_endpoint.url.value)\u001b[0m\n",
      "\u001b[90m\u001b[0m\u001b[90m#           ---\u001b[0m\n",
      "\u001b[90m\u001b[0m\u001b[90m#           $(inputs.search_request.collections[0])\u001b[0m\n",
      "\u001b[90m\u001b[0m\u001b[90m#           ---\u001b[0m\n",
      "\u001b[90m\u001b[0m\u001b[90m#           ${ \u001b[0m\n",
      "\u001b[90m\u001b[0m\u001b[90m#             const bbox = inputs?.search_request?.bbox;\u001b[0m\n",
      "\u001b[90m\u001b[0m\u001b[90m#             return (Array.isArray(bbox) && bbox.length >= 4) ? \"--bbox \" + bbox[0] + \" \" + bbox[1] + \" \" + bbox[2] + \" \" + bbox[3] : \"\";\u001b[0m\n",
      "\u001b[90m\u001b[0m\u001b[90m#           }\u001b[0m\n",
      "\u001b[90m\u001b[0m\u001b[36minputs\u001b[0m:\u001b[36m\u001b[0m\n",
      "\u001b[36m  api_endpoint\u001b[0m:\u001b[36m\u001b[0m\n",
      "\u001b[36m    type\u001b[0m:\u001b[32m https://raw.githubusercontent.com/eoap/schemas/main/experimental/api-endpoint.yaml#APIEndpoint\u001b[0m\n",
      "\u001b[32m    \u001b[0m\u001b[36mlabel\u001b[0m:\u001b[32m \"STAC API endpoint\"\u001b[0m\u001b[36m\u001b[0m\n",
      "\u001b[36m    doc\u001b[0m:\u001b[32m \"STAC API endpoint for Landsat-9 data\"\u001b[0m\u001b[36m\u001b[0m\n",
      "\u001b[36m  search_request\u001b[0m:\u001b[36m\u001b[0m\n",
      "\u001b[36m    type\u001b[0m:\u001b[32m https://raw.githubusercontent.com/eoap/schemas/main/experimental/discovery.yaml#STACSearchSettings\u001b[0m\n",
      "\u001b[32m    \u001b[0m\u001b[36mlabel\u001b[0m:\u001b[32m \"STAC API settings\"\u001b[0m\u001b[36m\u001b[0m\n",
      "\u001b[36m    doc\u001b[0m:\u001b[32m \"STAC API settings for Landsat-9 data\"\u001b[0m\u001b[90m\u001b[0m\n",
      "\u001b[90m# arguments:\u001b[0m\n",
      "\u001b[90m\u001b[0m\u001b[90m# - inputs.yaml\u001b[0m\n",
      "\u001b[90m\u001b[0m\u001b[36moutputs\u001b[0m:\u001b[36m\u001b[0m\n",
      "\u001b[36m  echo_output\u001b[0m:\u001b[36m\u001b[0m\n",
      "\u001b[36m    type\u001b[0m:\u001b[32m stdout\u001b[0m\n",
      "\u001b[32m\u001b[0m\u001b[36mstdout\u001b[0m:\u001b[32m discovery-output.yaml\u001b[0m\n"
     ]
    }
   ],
   "source": [
    "cat ../../examples/experimental/discovery.cwl | yq "
   ]
  },
  {
   "cell_type": "markdown",
   "metadata": {},
   "source": [
    "## Input example"
   ]
  },
  {
   "cell_type": "code",
   "execution_count": 2,
   "metadata": {
    "vscode": {
     "languageId": "shellscript"
    }
   },
   "outputs": [
    {
     "name": "stdout",
     "output_type": "stream",
     "text": [
      "\u001b[36mapi_endpoint\u001b[0m:\u001b[36m\u001b[0m\n",
      "\u001b[36m  url\u001b[0m:\u001b[36m\u001b[0m\n",
      "\u001b[36m    value\u001b[0m:\u001b[32m https://planetarycomputer.microsoft.com/api/stac/v1\u001b[0m\n",
      "\u001b[32m  \u001b[0m\u001b[36mheaders\u001b[0m: []\u001b[36m\u001b[0m\n",
      "\u001b[36msearch_request\u001b[0m:\u001b[36m\u001b[0m\n",
      "\u001b[36m  collections\u001b[0m:\n",
      "    -\u001b[32m landsat-c2-l2\u001b[0m\n",
      "\u001b[32m  \u001b[0m\u001b[36mdatetime_interval\u001b[0m:\u001b[36m\u001b[0m\n",
      "\u001b[36m    start\u001b[0m:\u001b[32m \"2023-10-15T18:00:00\"\u001b[0m\u001b[36m\u001b[0m\n",
      "\u001b[36m    end\u001b[0m:\u001b[32m \"2023-10-15T18:59:59\"\u001b[0m\u001b[36m\u001b[0m\n",
      "\u001b[36m  bbox\u001b[0m:\n",
      "    -\u001b[95m -118.985\u001b[0m\n",
      "\u001b[95m    \u001b[0m-\u001b[95m 38.432\u001b[0m\n",
      "\u001b[95m    \u001b[0m-\u001b[95m -118.183\u001b[0m\n",
      "\u001b[95m    \u001b[0m-\u001b[95m 38.938\u001b[0m\n",
      "\u001b[95m  \u001b[0m\u001b[36mfilter-lang\u001b[0m:\u001b[32m cql-text\u001b[0m\n",
      "\u001b[32m  \u001b[0m\u001b[36mfilter\u001b[0m:\n",
      "    -\u001b[32m \"eo:cloud_cover<10\"\u001b[0m\n"
     ]
    }
   ],
   "source": [
    "cat ../../examples/experimental/discovery.yaml | yq"
   ]
  },
  {
   "cell_type": "markdown",
   "metadata": {},
   "source": [
    "## Execute the example \n",
    "\n",
    "Run the example with:\n",
    "\n",
    "```bash\n",
    "cwltool examples/experimental/discovery.cwl examples/experimental/discovery.yaml\n",
    "```\n",
    "\n",
    "This produces the output:"
   ]
  },
  {
   "cell_type": "code",
   "execution_count": 3,
   "metadata": {
    "vscode": {
     "languageId": "shellscript"
    }
   },
   "outputs": [
    {
     "name": "stdout",
     "output_type": "stream",
     "text": [
      "\u001b[1;30mINFO\u001b[0m /home/stripodi/.local/bin/cwltool 3.1.20250715140722\n",
      "\u001b[1;30mINFO\u001b[0m Resolved '../../examples/experimental/discovery.cwl' to 'file:///home/stripodi/Documents/workspace/schemas/examples/experimental/discovery.cwl'\n",
      "\u001b[1;30mERROR\u001b[0m \u001b[31mI'm sorry, I couldn't load this CWL file.\n",
      "The error was: \u001b[0m\n",
      "Traceback (most recent call last):\n",
      "  File \"/home/stripodi/.local/lib/python3.10/site-packages/cwltool/main.py\", line 1134, in main\n",
      "    tool = make_tool(uri, loadingContext)\n",
      "  File \"/home/stripodi/.local/lib/python3.10/site-packages/cwltool/load_tool.py\", line 588, in make_tool\n",
      "    tool = loadingContext.construct_tool_object(processobj, loadingContext)\n",
      "  File \"/home/stripodi/.local/lib/python3.10/site-packages/cwltool/workflow.py\", line 40, in default_make_tool\n",
      "    return command_line_tool.CommandLineTool(toolpath_object, loadingContext)\n",
      "  File \"/home/stripodi/.local/lib/python3.10/site-packages/cwltool/command_line_tool.py\", line 399, in __init__\n",
      "    super().__init__(toolpath_object, loadingContext)\n",
      "  File \"/home/stripodi/.local/lib/python3.10/site-packages/cwltool/process.py\", line 609, in __init__\n",
      "    self.schemaDefs[i[\"name\"]] = i  # type: ignore\n",
      "TypeError: string indices must be integers\n"
     ]
    },
    {
     "ename": "",
     "evalue": "1",
     "output_type": "error",
     "traceback": []
    }
   ],
   "source": [
    "cwltool --debug ../../examples/experimental/discovery.cwl ../../examples/experimental/discovery.yaml > output.json"
   ]
  },
  {
   "cell_type": "markdown",
   "metadata": {
    "vscode": {
     "languageId": "shellscript"
    }
   },
   "source": [
    "The content of the `echo_output.txt` file is:"
   ]
  },
  {
   "cell_type": "code",
   "execution_count": null,
   "metadata": {
    "vscode": {
     "languageId": "shellscript"
    }
   },
   "outputs": [
    {
     "name": "stdout",
     "output_type": "stream",
     "text": [
      "\n"
     ]
    }
   ],
   "source": [
    "cat $( cat output.json | jq -r .echo_output.path )\n"
   ]
  },
  {
   "cell_type": "markdown",
   "metadata": {},
   "source": []
  }
 ],
 "metadata": {
  "kernelspec": {
   "display_name": "Bash",
   "language": "bash",
   "name": "bash"
  },
  "language_info": {
   "codemirror_mode": "shell",
   "file_extension": ".sh",
   "mimetype": "text/x-sh",
   "name": "bash"
  }
 },
 "nbformat": 4,
 "nbformat_minor": 2
}
