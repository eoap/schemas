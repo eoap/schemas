{
 "cells": [
  {
   "cell_type": "markdown",
   "metadata": {},
   "source": [
    "# Experimental Process Inputs"
   ]
  },
  {
   "cell_type": "markdown",
   "metadata": {},
   "source": [
    "## CWL example"
   ]
  },
  {
   "cell_type": "code",
   "execution_count": 1,
   "metadata": {
    "vscode": {
     "languageId": "shellscript"
    }
   },
   "outputs": [
    {
     "name": "stdout",
     "output_type": "stream",
     "text": [
      "\u001b[36mcwlVersion\u001b[0m:\u001b[32m v1.2\u001b[0m\n",
      "\u001b[32m\u001b[0m\u001b[36mclass\u001b[0m:\u001b[32m CommandLineTool\u001b[0m\n",
      "\u001b[32m\u001b[0m\u001b[36mlabel\u001b[0m:\u001b[32m \"geo API - Processes\"\u001b[0m\u001b[36m\u001b[0m\n",
      "\u001b[36mbaseCommand\u001b[0m:\u001b[32m cat\u001b[0m\n",
      "\u001b[32m\u001b[0m\u001b[36mrequirements\u001b[0m:\n",
      "  -\u001b[36m class\u001b[0m:\u001b[32m InlineJavascriptRequirement\u001b[0m\n",
      "\u001b[32m  \u001b[0m-\u001b[36m class\u001b[0m:\u001b[32m SchemaDefRequirement\u001b[0m\n",
      "\u001b[32m    \u001b[0m\u001b[36mtypes\u001b[0m:\n",
      "      -\u001b[36m $import\u001b[0m:\u001b[32m https://raw.githubusercontent.com/eoap/schemas/main/string_format.yaml\u001b[0m\n",
      "\u001b[32m      \u001b[0m-\u001b[36m $import\u001b[0m:\u001b[32m https://raw.githubusercontent.com/eoap/schemas/main/experimental/api-endpoint.yaml\u001b[0m\n",
      "\u001b[32m      \u001b[0m-\u001b[36m $import\u001b[0m:\u001b[32m https://raw.githubusercontent.com/eoap/schemas/main/experimental/process.yaml\u001b[0m\n",
      "\u001b[32m  \u001b[0m-\u001b[36m class\u001b[0m:\u001b[32m InitialWorkDirRequirement\u001b[0m\n",
      "\u001b[32m    \u001b[0m\u001b[36mlisting\u001b[0m:\n",
      "      -\u001b[36m entryname\u001b[0m:\u001b[32m inputs.yaml\u001b[0m\n",
      "\u001b[32m        \u001b[0m\u001b[36mentry\u001b[0m: |-\n",
      "\u001b[32m          $(inputs.api_endpoint.url.value)\u001b[0m\n",
      "\u001b[32m          ---\u001b[0m\n",
      "\u001b[32m          $(inputs.execute_request.process_id)\u001b[0m\n",
      "\u001b[32m          ---\u001b[0m\n",
      "\u001b[32m          $(inputs.execute_request.inputs)\u001b[0m\n",
      "\u001b[32m\u001b[0m\u001b[36minputs\u001b[0m:\u001b[36m\u001b[0m\n",
      "\u001b[36m  api_endpoint\u001b[0m:\u001b[36m\u001b[0m\n",
      "\u001b[36m    type\u001b[0m:\u001b[32m https://raw.githubusercontent.com/eoap/schemas/main/experimental/api-endpoint.yaml#APIEndpoint\u001b[0m\n",
      "\u001b[32m    \u001b[0m\u001b[36mlabel\u001b[0m:\u001b[32m \"OGC API endpoint\"\u001b[0m\u001b[36m\u001b[0m\n",
      "\u001b[36m    doc\u001b[0m:\u001b[32m \"OGC API endpoint for Landsat-9 data\"\u001b[0m\u001b[36m\u001b[0m\n",
      "\u001b[36m  execute_request\u001b[0m:\u001b[36m\u001b[0m\n",
      "\u001b[36m    type\u001b[0m:\u001b[32m https://raw.githubusercontent.com/eoap/schemas/main/experimental/process.yaml#OGCExecuteProcessSettings\u001b[0m\n",
      "\u001b[32m    \u001b[0m\u001b[36mlabel\u001b[0m:\u001b[32m \"OGC API Processes settings\"\u001b[0m\u001b[36m\u001b[0m\n",
      "\u001b[36m    doc\u001b[0m:\u001b[32m \"OGC API Processes settings for Landsat-9 data\"\u001b[0m\u001b[36m\u001b[0m\n",
      "\u001b[36marguments\u001b[0m:\n",
      "  -\u001b[32m inputs.yaml\u001b[0m\n",
      "\u001b[32m\u001b[0m\u001b[36moutputs\u001b[0m:\u001b[36m\u001b[0m\n",
      "\u001b[36m  echo_output\u001b[0m:\u001b[36m\u001b[0m\n",
      "\u001b[36m    type\u001b[0m:\u001b[32m stdout\u001b[0m\n",
      "\u001b[32m\u001b[0m\u001b[36mstdout\u001b[0m:\u001b[32m process-output.yaml\u001b[0m\n"
     ]
    }
   ],
   "source": [
    "cat ../../examples/experimental/process.cwl | yq "
   ]
  },
  {
   "cell_type": "markdown",
   "metadata": {},
   "source": [
    "## Input example"
   ]
  },
  {
   "cell_type": "code",
   "execution_count": 2,
   "metadata": {
    "vscode": {
     "languageId": "shellscript"
    }
   },
   "outputs": [
    {
     "name": "stdout",
     "output_type": "stream",
     "text": [
      "\n",
      "\u001b[36mapi_endpoint\u001b[0m:\u001b[36m\u001b[0m\n",
      "\u001b[36m  url\u001b[0m:\u001b[36m\u001b[0m\n",
      "\u001b[36m    value\u001b[0m:\u001b[32m https://planetarycomputer.microsoft.com/api/ogc/processes/v1\u001b[0m\n",
      "\u001b[32m  \u001b[0m\u001b[36mheaders\u001b[0m: []\u001b[36m\u001b[0m\n",
      "\u001b[36mexecute_request\u001b[0m:\u001b[36m\u001b[0m\n",
      "\u001b[36m  process_id\u001b[0m:\u001b[32m \"water-body-detection\"\u001b[0m\u001b[36m\u001b[0m\n",
      "\u001b[36m  inputs\u001b[0m:\u001b[36m\u001b[0m\n",
      "\u001b[36m    item\u001b[0m:\u001b[36m\u001b[0m\n",
      "\u001b[36m      class\u001b[0m:\u001b[32m \"https://raw.githubusercontent.com/eoap/schemas/main/url.yaml#URL\"\u001b[0m\u001b[36m\u001b[0m\n",
      "\u001b[36m      value\u001b[0m:\u001b[32m \"https://planetarycomputer.microsoft.com/api/stac/v1/collections/landsat-c2-l2/items/LC08_L2SP_042033_20231007_02_T1\"\u001b[0m\u001b[36m\u001b[0m\n",
      "\u001b[36m    aoi\u001b[0m:\u001b[32m \"-118.985,38.432,-118.183,38.938\"\u001b[0m\u001b[36m\u001b[0m\n",
      "\u001b[36m    bands\u001b[0m:\n",
      "      -\u001b[32m \"green\"\u001b[0m\n",
      "      -\u001b[32m \"nir08\"\u001b[0m\u001b[36m\u001b[0m\n",
      "\u001b[36m    epsg\u001b[0m:\u001b[32m \"EPSG:4326\"\u001b[0m\n"
     ]
    }
   ],
   "source": [
    "cat ../../examples/experimental/process.yaml | yq"
   ]
  },
  {
   "cell_type": "markdown",
   "metadata": {},
   "source": [
    "## Execute the example \n",
    "\n",
    "Run the example with:\n",
    "\n",
    "```bash\n",
    "cwltool examples/experimental/process.cwl examples/experimental/process.yaml\n",
    "```\n",
    "\n",
    "This produces the output:"
   ]
  },
  {
   "cell_type": "code",
   "execution_count": 3,
   "metadata": {
    "vscode": {
     "languageId": "shellscript"
    }
   },
   "outputs": [
    {
     "name": "stdout",
     "output_type": "stream",
     "text": [
      "\u001b[1;30mINFO\u001b[0m /home/stripodi/.local/bin/cwltool 3.1.20250715140722\n",
      "\u001b[1;30mINFO\u001b[0m Resolved '../../examples/experimental/process.cwl' to 'file:///home/stripodi/Documents/workspace/schemas/examples/experimental/process.cwl'\n",
      "\u001b[1;30mINFO\u001b[0m [job process.cwl] /tmp/6fky4mmw$ cat \\\n",
      "    inputs.yaml > /tmp/6fky4mmw/process-output.yaml\n",
      "\u001b[1;30mINFO\u001b[0m [job process.cwl] completed success\n",
      "\u001b[1;30mINFO\u001b[0m Final process status is success\n"
     ]
    }
   ],
   "source": [
    "cwltool ../../examples/experimental/process.cwl ../../examples/experimental/process.yaml > output.json"
   ]
  },
  {
   "cell_type": "markdown",
   "metadata": {
    "vscode": {
     "languageId": "shellscript"
    }
   },
   "source": [
    "The content of the `echo_output.txt` file is:"
   ]
  },
  {
   "cell_type": "code",
   "execution_count": 4,
   "metadata": {
    "vscode": {
     "languageId": "shellscript"
    }
   },
   "outputs": [
    {
     "name": "stdout",
     "output_type": "stream",
     "text": [
      "https://planetarycomputer.microsoft.com/api/ogc/processes/v1\n",
      "---\n",
      "water-body-detection\n",
      "---\n",
      "{\"aoi\": \"-118.985,38.432,-118.183,38.938\", \"bands\": [\"green\", \"nir08\"], \"epsg\": \"EPSG:4326\", \"item\": {\"class\": \"https://raw.githubusercontent.com/eoap/schemas/main/url.yaml#URL\", \"value\": \"https://planetarycomputer.microsoft.com/api/stac/v1/collections/landsat-c2-l2/items/LC08_L2SP_042033_20231007_02_T1\"}}\n"
     ]
    }
   ],
   "source": [
    "cat $( cat output.json | jq -r .echo_output.path )\n"
   ]
  },
  {
   "cell_type": "markdown",
   "metadata": {},
   "source": []
  }
 ],
 "metadata": {
  "kernelspec": {
   "display_name": "Bash",
   "language": "bash",
   "name": "bash"
  },
  "language_info": {
   "codemirror_mode": "shell",
   "file_extension": ".sh",
   "mimetype": "text/x-sh",
   "name": "bash"
  }
 },
 "nbformat": 4,
 "nbformat_minor": 2
}
