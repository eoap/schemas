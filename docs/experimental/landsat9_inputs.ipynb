{
 "cells": [
  {
   "cell_type": "markdown",
   "metadata": {},
   "source": [
    "# Experimental Landsat-9 Inputs"
   ]
  },
  {
   "cell_type": "markdown",
   "metadata": {},
   "source": [
    "## CWL example"
   ]
  },
  {
   "cell_type": "code",
   "execution_count": 1,
   "metadata": {
    "vscode": {
     "languageId": "shellscript"
    }
   },
   "outputs": [
    {
     "name": "stdout",
     "output_type": "stream",
     "text": [
      "\u001b[36mcwlVersion\u001b[0m:\u001b[32m v1.2\u001b[0m\n",
      "\u001b[32m\u001b[0m\u001b[36mclass\u001b[0m:\u001b[32m CommandLineTool\u001b[0m\n",
      "\u001b[32m\u001b[0m\u001b[36mlabel\u001b[0m:\u001b[32m \"Echo Landsat-9 inputs\"\u001b[0m\u001b[36m\u001b[0m\n",
      "\u001b[36mbaseCommand\u001b[0m:\u001b[32m echo\u001b[0m\n",
      "\u001b[32m\u001b[0m\u001b[36mrequirements\u001b[0m:\n",
      "  -\u001b[36m class\u001b[0m:\u001b[32m InlineJavascriptRequirement\u001b[0m\n",
      "\u001b[32m  \u001b[0m-\u001b[36m class\u001b[0m:\u001b[32m SchemaDefRequirement\u001b[0m\n",
      "\u001b[32m    \u001b[0m\u001b[36mtypes\u001b[0m:\n",
      "      -\u001b[36m $import\u001b[0m:\u001b[32m https://raw.githubusercontent.com/eoap/schemas/develop/experimental/landsat9_inputs.yaml\u001b[0m\n",
      "\u001b[32m      \u001b[0m-\u001b[36m $import\u001b[0m:\u001b[32m https://raw.githubusercontent.com/eoap/schemas/main/string_format.yaml\u001b[0m\n",
      "\u001b[32m\u001b[0m\u001b[36minputs\u001b[0m:\u001b[36m\u001b[0m\n",
      "\u001b[36m  stac_api_endpoint\u001b[0m:\u001b[36m\u001b[0m\n",
      "\u001b[36m    type\u001b[0m:\u001b[32m https://raw.githubusercontent.com/eoap/schemas/develop/experimental/landsat9_inputs.yaml#STACApiEndpoint\u001b[0m\n",
      "\u001b[32m    \u001b[0m\u001b[36mlabel\u001b[0m:\u001b[32m \"STAC API endpoint\"\u001b[0m\u001b[36m\u001b[0m\n",
      "\u001b[36m    doc\u001b[0m:\u001b[32m \"STAC API endpoint for Landsat-9 data\"\u001b[0m\u001b[36m\u001b[0m\n",
      "\u001b[36m  stac_api_search_request\u001b[0m:\u001b[36m\u001b[0m\n",
      "\u001b[36m    type\u001b[0m:\u001b[32m https://raw.githubusercontent.com/eoap/schemas/develop/experimental/landsat9_inputs.yaml#STACSearchSettings\u001b[0m\n",
      "\u001b[32m    \u001b[0m\u001b[36mlabel\u001b[0m:\u001b[32m \"STAC API search request\"\u001b[0m\u001b[36m\u001b[0m\n",
      "\u001b[36m    doc\u001b[0m:\u001b[32m \"STAC API search request\"\u001b[0m\u001b[36m\u001b[0m\n",
      "\u001b[36m  ogc_api_processes_endpoint\u001b[0m:\u001b[36m\u001b[0m\n",
      "\u001b[36m    type\u001b[0m:\u001b[32m https://raw.githubusercontent.com/eoap/schemas/develop/experimental/landsat9_inputs.yaml#OGCApiProcessesEndpoint\u001b[0m\n",
      "\u001b[32m    \u001b[0m\u001b[36mlabel\u001b[0m:\u001b[32m \"OGC API Processes endpoint\"\u001b[0m\u001b[36m\u001b[0m\n",
      "\u001b[36m    doc\u001b[0m:\u001b[32m \"OGC API Processes endpoint for Landsat-9 data\"\u001b[0m\u001b[36m\u001b[0m\n",
      "\u001b[36m  ogc_api_processes_execute_request\u001b[0m:\u001b[36m\u001b[0m\n",
      "\u001b[36m    type\u001b[0m:\u001b[32m https://raw.githubusercontent.com/eoap/schemas/develop/experimental/landsat9_inputs.yaml#OGCExecuteProcessSettings\u001b[0m\n",
      "\u001b[32m    \u001b[0m\u001b[36mlabel\u001b[0m:\u001b[32m \"OGC API Processes Execute request\"\u001b[0m\u001b[36m\u001b[0m\n",
      "\u001b[36m    doc\u001b[0m:\u001b[32m \"OGC API Processes Execute request\"\u001b[0m\u001b[36m\u001b[0m\n",
      "\u001b[36m  process_id\u001b[0m:\u001b[36m\u001b[0m\n",
      "\u001b[36m    type\u001b[0m:\u001b[32m string\u001b[0m\n",
      "\u001b[32m    \u001b[0m\u001b[36mlabel\u001b[0m:\u001b[32m \"Process Id\"\u001b[0m\u001b[36m\u001b[0m\n",
      "\u001b[36m    doc\u001b[0m:\u001b[32m \"Process Id\"\u001b[0m\u001b[36m\u001b[0m\n",
      "\u001b[36moutputs\u001b[0m:\u001b[36m\u001b[0m\n",
      "\u001b[36m  echo_output\u001b[0m:\u001b[36m\u001b[0m\n",
      "\u001b[36m    type\u001b[0m:\u001b[32m stdout\u001b[0m\n",
      "\u001b[32m\u001b[0m\u001b[36mstdout\u001b[0m:\u001b[32m echo_output.txt\u001b[0m\n"
     ]
    }
   ],
   "source": [
    "cat ../../examples/experimental/landsat9.cwl | yq "
   ]
  },
  {
   "cell_type": "markdown",
   "metadata": {},
   "source": [
    "## Input example"
   ]
  },
  {
   "cell_type": "code",
   "execution_count": 2,
   "metadata": {
    "vscode": {
     "languageId": "shellscript"
    }
   },
   "outputs": [
    {
     "name": "stdout",
     "output_type": "stream",
     "text": [
      "\u001b[36mstac_api_endpoint\u001b[0m:\u001b[36m\u001b[0m\n",
      "\u001b[36m  class\u001b[0m:\u001b[32m https://raw.githubusercontent.com/eoap/schemas/develop/experimental/landsat9_inputs.yaml#STACApiEndpoint\u001b[0m\n",
      "\u001b[32m  \u001b[0m\u001b[36murl\u001b[0m:\u001b[36m\u001b[0m\n",
      "\u001b[36m    value\u001b[0m:\u001b[32m https://planetarycomputer.microsoft.com/api/stac/v1\u001b[0m\n",
      "\u001b[32m  \u001b[0m\u001b[36mheaders\u001b[0m: []\u001b[36m\u001b[0m\n",
      "\u001b[36mstac_api_search_request\u001b[0m:\u001b[36m\u001b[0m\n",
      "\u001b[36m  class\u001b[0m:\u001b[32m https://raw.githubusercontent.com/eoap/schemas/develop/experimental/landsat9_inputs.yaml#STACSearchSettings\u001b[0m\n",
      "\u001b[32m  \u001b[0m\u001b[36mcollection\u001b[0m:\u001b[32m landsat-c2-l2\u001b[0m\n",
      "\u001b[32m  \u001b[0m\u001b[36mdatetime_interval\u001b[0m:\u001b[36m\u001b[0m\n",
      "\u001b[36m    start\u001b[0m:\u001b[32m \"2023-10-15T18:00:00\"\u001b[0m\u001b[36m\u001b[0m\n",
      "\u001b[36m    end\u001b[0m:\u001b[32m \"2023-10-15T18:59:59\"\u001b[0m\u001b[36m\u001b[0m\n",
      "\u001b[36m  aoi\u001b[0m:\n",
      "    -\u001b[95m -118.985\u001b[0m\n",
      "\u001b[95m    \u001b[0m-\u001b[95m 38.432\u001b[0m\n",
      "\u001b[95m    \u001b[0m-\u001b[95m -118.183\u001b[0m\n",
      "\u001b[95m    \u001b[0m-\u001b[95m 38.938\u001b[0m\n",
      "\u001b[95m  \u001b[0m\u001b[36mquery\u001b[0m:\n",
      "    -\u001b[32m \"eo:cloud_cover<10\"\u001b[0m\u001b[36m\u001b[0m\n",
      "\u001b[36mogc_api_processes_endpoint\u001b[0m:\u001b[36m\u001b[0m\n",
      "\u001b[36m  class\u001b[0m:\u001b[32m https://raw.githubusercontent.com/eoap/schemas/develop/experimental/landsat9_inputs.yaml#OGCProcessesEndpoint\u001b[0m\n",
      "\u001b[32m  \u001b[0m\u001b[36murl\u001b[0m:\u001b[36m\u001b[0m\n",
      "\u001b[36m    value\u001b[0m:\u001b[32m https://planetarycomputer.microsoft.com/api/ogc/processes/v1\u001b[0m\n",
      "\u001b[32m  \u001b[0m\u001b[36mheaders\u001b[0m: []\u001b[36m\u001b[0m\n",
      "\u001b[36mogc_api_processes_execute_request\u001b[0m:\u001b[36m\u001b[0m\n",
      "\u001b[36m  class\u001b[0m:\u001b[32m https://raw.githubusercontent.com/eoap/schemas/develop/experimental/landsat9_inputs.yaml#OGCExecuteProcessSettings\u001b[0m\n",
      "\u001b[32m  \u001b[0m\u001b[36mprocess_id\u001b[0m:\u001b[32m \"water-body-detection\"\u001b[0m\u001b[36m\u001b[0m\n",
      "\u001b[36m  inputs\u001b[0m:\u001b[36m\u001b[0m\n",
      "\u001b[36m    item\u001b[0m:\u001b[36m\u001b[0m\n",
      "\u001b[36m      class\u001b[0m:\u001b[32m \"https://raw.githubusercontent.com/eoap/schemas/main/url.yaml#URL\"\u001b[0m\u001b[36m\u001b[0m\n",
      "\u001b[36m      value\u001b[0m:\u001b[32m \"https://planetarycomputer.microsoft.com/api/stac/v1/collections/landsat-c2-l2/items/LC08_L2SP_042033_20231007_02_T1\"\u001b[0m\u001b[36m\u001b[0m\n",
      "\u001b[36m    aoi\u001b[0m:\u001b[32m \"-118.985,38.432,-118.183,38.938\"\u001b[0m\u001b[36m\u001b[0m\n",
      "\u001b[36m    bands\u001b[0m: [\u001b[32m\"green\"\u001b[0m,\u001b[32m \"nir08\"\u001b[0m]\u001b[36m\u001b[0m\n",
      "\u001b[36m    epsg\u001b[0m:\u001b[32m \"EPSG:4326\"\u001b[0m\n"
     ]
    }
   ],
   "source": [
    "cat ../../examples/experimental/landsat9.yaml | yq"
   ]
  },
  {
   "cell_type": "markdown",
   "metadata": {},
   "source": [
    "## Execute the example \n",
    "\n",
    "Run the example with:\n",
    "\n",
    "```bash\n",
    "cwltool examples/experimental/landsat9.cwl examples/experimental/landsat9.yaml\n",
    "```\n",
    "\n",
    "This produces the output:"
   ]
  },
  {
   "cell_type": "code",
   "execution_count": 3,
   "metadata": {
    "vscode": {
     "languageId": "shellscript"
    }
   },
   "outputs": [
    {
     "name": "stdout",
     "output_type": "stream",
     "text": [
      "\u001b[1;30mINFO\u001b[0m /home/stripodi/.local/bin/cwltool 3.1.20250715140722\n",
      "\u001b[1;30mINFO\u001b[0m Resolved '../../examples/experimental/landsat9.cwl' to 'file:///home/stripodi/Documents/workspace/schemas/examples/experimental/landsat9.cwl'\n",
      "\u001b[1;30mERROR\u001b[0m \u001b[31mTool definition failed validation:\n",
      "../../examples/experimental/landsat9.cwl:14:1: checking field 'inputs'\n",
      "../../examples/experimental/landsat9.cwl:23:3:   checking object\n",
      "                                                 '../../examples/experimental/landsat9.cwl#ogc_api_processes_endpoint'\n",
      "../../examples/experimental/landsat9.cwl:24:5:     Field 'type' references unknown identifier\n",
      "                                                   'https://raw.githubusercontent.com/eoap/schemas/develop/experimental/landsat9_inputs.yaml#OGCApiProcessesEndpoint',\n",
      "                                                   tried\n",
      "                                                   file:///home/stripodi/Documents/workspace/schemas/examples/experimental/landsat9.cwl#https://raw.githubusercontent.com/eoap/schemas/develop/experimental/landsat9_inputs.yaml#OGCApiProcessesEndpoint\n",
      "../../examples/experimental/landsat9.cwl:27:3:   checking object\n",
      "                                                 '../../examples/experimental/landsat9.cwl#ogc_api_processes_execute_request'\n",
      "../../examples/experimental/landsat9.cwl:28:5:     Field 'type' references unknown identifier\n",
      "                                                   'https://raw.githubusercontent.com/eoap/schemas/develop/experimental/landsat9_inputs.yaml#OGCExecuteProcessSettings',\n",
      "                                                   tried\n",
      "                                                   file:///home/stripodi/Documents/workspace/schemas/examples/experimental/landsat9.cwl#https://raw.githubusercontent.com/eoap/schemas/develop/experimental/landsat9_inputs.yaml#OGCExecuteProcessSettings\n",
      "../../examples/experimental/landsat9.cwl:15:3:   checking object\n",
      "                                                 '../../examples/experimental/landsat9.cwl#stac_api_endpoint'\n",
      "../../examples/experimental/landsat9.cwl:16:5:     Field 'type' references unknown identifier\n",
      "                                                   'https://raw.githubusercontent.com/eoap/schemas/develop/experimental/landsat9_inputs.yaml#STACApiEndpoint',\n",
      "                                                   tried\n",
      "                                                   file:///home/stripodi/Documents/workspace/schemas/examples/experimental/landsat9.cwl#https://raw.githubusercontent.com/eoap/schemas/develop/experimental/landsat9_inputs.yaml#STACApiEndpoint\u001b[0m\n"
     ]
    },
    {
     "ename": "",
     "evalue": "1",
     "output_type": "error",
     "traceback": []
    }
   ],
   "source": [
    "cwltool ../../examples/experimental/landsat9.cwl ../../examples/experimental/landsat9.yaml > output.json"
   ]
  },
  {
   "cell_type": "markdown",
   "metadata": {
    "vscode": {
     "languageId": "shellscript"
    }
   },
   "source": [
    "The content of the `echo_output.txt` file is:"
   ]
  },
  {
   "cell_type": "code",
   "execution_count": null,
   "metadata": {
    "vscode": {
     "languageId": "shellscript"
    }
   },
   "outputs": [
    {
     "name": "stdout",
     "output_type": "stream",
     "text": [
      "\n"
     ]
    }
   ],
   "source": [
    "cat $( cat output.json | jq -r .echo_output.path )\n"
   ]
  },
  {
   "cell_type": "markdown",
   "metadata": {},
   "source": []
  }
 ],
 "metadata": {
  "kernelspec": {
   "display_name": "Bash",
   "language": "bash",
   "name": "bash"
  },
  "language_info": {
   "codemirror_mode": "shell",
   "file_extension": ".sh",
   "mimetype": "text/x-sh",
   "name": "bash"
  }
 },
 "nbformat": 4,
 "nbformat_minor": 2
}
