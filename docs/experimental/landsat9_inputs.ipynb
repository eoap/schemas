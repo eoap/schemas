{
 "cells": [
  {
   "cell_type": "markdown",
   "metadata": {},
   "source": [
    "# Experimental Landsat-9 Inputs"
   ]
  },
  {
   "cell_type": "markdown",
   "metadata": {},
   "source": [
    "## CWL example"
   ]
  },
  {
   "cell_type": "code",
   "execution_count": 4,
   "metadata": {
    "vscode": {
     "languageId": "shellscript"
    }
   },
   "outputs": [
    {
     "name": "stdout",
     "output_type": "stream",
     "text": [
      "\u001b[36mcwlVersion\u001b[0m:\u001b[32m v1.2\u001b[0m\n",
      "\u001b[32m\u001b[0m\u001b[36mclass\u001b[0m:\u001b[32m CommandLineTool\u001b[0m\n",
      "\u001b[32m\u001b[0m\u001b[36mlabel\u001b[0m:\u001b[32m \"Echo Landsat-9 inputs\"\u001b[0m\u001b[36m\u001b[0m\n",
      "\u001b[36mbaseCommand\u001b[0m:\u001b[32m echo\u001b[0m\n",
      "\u001b[32m\u001b[0m\u001b[36mrequirements\u001b[0m:\n",
      "  -\u001b[36m class\u001b[0m:\u001b[32m InlineJavascriptRequirement\u001b[0m\n",
      "\u001b[32m  \u001b[0m-\u001b[36m class\u001b[0m:\u001b[32m SchemaDefRequirement\u001b[0m\n",
      "\u001b[32m    \u001b[0m\u001b[36mtypes\u001b[0m:\n",
      "      -\u001b[36m $import\u001b[0m:\u001b[32m https://raw.githubusercontent.com/eoap/schemas/main/experimental/landsat9_inputs.yaml\u001b[0m\n",
      "\u001b[32m\u001b[0m\u001b[36minputs\u001b[0m:\u001b[36m\u001b[0m\n",
      "\u001b[36m  stac_api_search_request\u001b[0m:\u001b[36m\u001b[0m\n",
      "\u001b[36m    type\u001b[0m:\u001b[32m https://raw.githubusercontent.com/eoap/schemas/main/experimental/landsat9_inputs.yaml#STACSearchSettings\u001b[0m\n",
      "\u001b[32m    \u001b[0m\u001b[36mlabel\u001b[0m:\u001b[32m \"STAC API search request\"\u001b[0m\u001b[36m\u001b[0m\n",
      "\u001b[36m    doc\u001b[0m:\u001b[32m \"STAC API search request\"\u001b[0m\u001b[36m\u001b[0m\n",
      "\u001b[36m  ogc_api_processes_execute_request\u001b[0m:\u001b[36m\u001b[0m\n",
      "\u001b[36m    type\u001b[0m:\u001b[32m https://raw.githubusercontent.com/eoap/schemas/main/experimental/landsat9_inputs.yaml#OGCProcessSettings\u001b[0m\n",
      "\u001b[32m    \u001b[0m\u001b[36mlabel\u001b[0m:\u001b[32m \"OGC API Processes Execute request\"\u001b[0m\u001b[36m\u001b[0m\n",
      "\u001b[36m    doc\u001b[0m:\u001b[32m \"OGC API Processes Execute request\"\u001b[0m\u001b[36m\u001b[0m\n",
      "\u001b[36m  process_id\u001b[0m:\u001b[36m\u001b[0m\n",
      "\u001b[36m    type\u001b[0m:\u001b[32m string\u001b[0m\n",
      "\u001b[32m    \u001b[0m\u001b[36mlabel\u001b[0m:\u001b[32m \"Process Id\"\u001b[0m\u001b[36m\u001b[0m\n",
      "\u001b[36m    doc\u001b[0m:\u001b[32m \"Process Id\"\u001b[0m\u001b[36m\u001b[0m\n",
      "\u001b[36moutputs\u001b[0m:\u001b[36m\u001b[0m\n",
      "\u001b[36m  echo_output\u001b[0m:\u001b[36m\u001b[0m\n",
      "\u001b[36m    type\u001b[0m:\u001b[32m stdout\u001b[0m\n",
      "\u001b[32m\u001b[0m\u001b[36mstdout\u001b[0m:\u001b[32m echo_output.txt\u001b[0m\n"
     ]
    }
   ],
   "source": [
    "cat ../../examples/experimental/landsat9.cwl | yq "
   ]
  },
  {
   "cell_type": "markdown",
   "metadata": {},
   "source": [
    "## Input example"
   ]
  },
  {
   "cell_type": "code",
   "execution_count": 5,
   "metadata": {
    "vscode": {
     "languageId": "shellscript"
    }
   },
   "outputs": [
    {
     "name": "stdout",
     "output_type": "stream",
     "text": [
      "\u001b[36mstac_api_search_request\u001b[0m:\u001b[36m\u001b[0m\n",
      "\u001b[36m  collection\u001b[0m:\u001b[32m landsat-9\u001b[0m\n",
      "\u001b[32m  \u001b[0m\u001b[36mdatetime_interval\u001b[0m:\u001b[36m\u001b[0m\n",
      "\u001b[36m    start\u001b[0m:\u001b[32m 2021-10-17T07:44\u001b[0m\n",
      "\u001b[32m    \u001b[0m\u001b[36mend\u001b[0m:\u001b[32m 2025-10-17T07:44\u001b[0m\n",
      "\u001b[32m  \u001b[0m\u001b[36maoi\u001b[0m:\n",
      "    -\u001b[95m 125.6\u001b[0m\n",
      "\u001b[95m    \u001b[0m-\u001b[95m 10.1\u001b[0m\n",
      "\u001b[95m    \u001b[0m-\u001b[95m 125.6\u001b[0m\n",
      "\u001b[95m    \u001b[0m-\u001b[95m 10.1\u001b[0m\n",
      "\u001b[95m\u001b[0m\u001b[36mogc_api_processes_execute_request\u001b[0m:\u001b[36m\u001b[0m\n",
      "\u001b[36m  stac_items\u001b[0m:\n",
      "    -\u001b[32m https://raw.githubusercontent.com/stac-utils/stac-examples/refs/heads/main/landsat9/LC81530252014153LGN00.json \u001b[0m\u001b[90m# does not exist\u001b[0m\n",
      "\u001b[90m\u001b[0m\u001b[36m  aoi\u001b[0m:\n",
      "    -\u001b[95m 125.6\u001b[0m\n",
      "\u001b[95m    \u001b[0m-\u001b[95m 10.1\u001b[0m\n",
      "\u001b[95m    \u001b[0m-\u001b[95m 125.6\u001b[0m\n",
      "\u001b[95m    \u001b[0m-\u001b[95m 10.1\u001b[0m\n",
      "\u001b[95m  \u001b[0m\u001b[36mbands\u001b[0m:\n",
      "    -\u001b[32m nir\u001b[0m\n",
      "\u001b[32m    \u001b[0m-\u001b[32m swir1\u001b[0m\n",
      "\u001b[32m    \u001b[0m-\u001b[32m panchromatic\u001b[0m\n",
      "\u001b[32m    \u001b[0m-\u001b[32m cirrus\u001b[0m\n",
      "\u001b[32m    \u001b[0m-\u001b[32m tirs2\u001b[0m\n",
      "\u001b[32m\u001b[0m\u001b[36mprocess_id\u001b[0m:\u001b[32m 7ef252e1-9c70-49e7-a077-41aaefe59099\u001b[0m\n"
     ]
    }
   ],
   "source": [
    "cat ../../examples/experimental/landsat9.yaml | yq"
   ]
  },
  {
   "cell_type": "markdown",
   "metadata": {},
   "source": [
    "## Execute the example \n",
    "\n",
    "Run the example with:\n",
    "\n",
    "```bash\n",
    "cwltool examples/experimental/landsat9.cwl examples/experimental/landsat9.yaml\n",
    "```\n",
    "\n",
    "This produces the output:"
   ]
  },
  {
   "cell_type": "code",
   "execution_count": 6,
   "metadata": {
    "vscode": {
     "languageId": "shellscript"
    }
   },
   "outputs": [
    {
     "name": "stdout",
     "output_type": "stream",
     "text": [
      "\u001b[1;30mINFO\u001b[0m /home/stripodi/.local/bin/cwltool 3.1.20250715140722\n",
      "\u001b[1;30mINFO\u001b[0m Resolved '../../examples/experimental/landsat9.cwl' to 'file:///home/stripodi/Documents/workspace/schemas/examples/experimental/landsat9.cwl'\n",
      "\u001b[1;30mINFO\u001b[0m [job landsat9.cwl] /tmp/pd2z8m8h$ echo > /tmp/pd2z8m8h/echo_output.txt\n",
      "\u001b[1;30mINFO\u001b[0m [job landsat9.cwl] completed success\n",
      "\u001b[1;30mINFO\u001b[0m Final process status is success\n"
     ]
    }
   ],
   "source": [
    "cwltool ../../examples/experimental/landsat9.cwl ../../examples/experimental/landsat9.yaml > output.json"
   ]
  },
  {
   "cell_type": "markdown",
   "metadata": {
    "vscode": {
     "languageId": "shellscript"
    }
   },
   "source": [
    "The content of the `echo_output.txt` file is:"
   ]
  },
  {
   "cell_type": "code",
   "execution_count": 7,
   "metadata": {
    "vscode": {
     "languageId": "shellscript"
    }
   },
   "outputs": [
    {
     "name": "stdout",
     "output_type": "stream",
     "text": [
      "\n"
     ]
    }
   ],
   "source": [
    "cat $( cat output.json | jq -r .echo_output.path )\n"
   ]
  },
  {
   "cell_type": "markdown",
   "metadata": {},
   "source": []
  }
 ],
 "metadata": {
  "kernelspec": {
   "display_name": "Bash",
   "language": "bash",
   "name": "bash"
  },
  "language_info": {
   "codemirror_mode": "shell",
   "file_extension": ".sh",
   "mimetype": "text/x-sh",
   "name": "bash"
  }
 },
 "nbformat": 4,
 "nbformat_minor": 2
}
