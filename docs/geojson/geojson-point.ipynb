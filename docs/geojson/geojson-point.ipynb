{
 "cells": [
  {
   "cell_type": "markdown",
   "metadata": {},
   "source": [
    "# GeoJSON Point"
   ]
  },
  {
   "cell_type": "markdown",
   "metadata": {},
   "source": [
    "## CWL example"
   ]
  },
  {
   "cell_type": "code",
   "execution_count": 4,
   "metadata": {
    "vscode": {
     "languageId": "shellscript"
    }
   },
   "outputs": [
    {
     "name": "stdout",
     "output_type": "stream",
     "text": [
      "\u001b[36mcwlVersion\u001b[0m:\u001b[32m v1.2\u001b[0m\n",
      "\u001b[32m\u001b[0m\u001b[36mclass\u001b[0m:\u001b[32m CommandLineTool\u001b[0m\n",
      "\u001b[32m\u001b[0m\u001b[36mlabel\u001b[0m:\u001b[32m \"Echo GeoJSON Point\"\u001b[0m\u001b[36m\u001b[0m\n",
      "\u001b[36mbaseCommand\u001b[0m:\u001b[32m echo\u001b[0m\n",
      "\u001b[32m\u001b[0m\u001b[36mrequirements\u001b[0m:\n",
      "  -\u001b[36m class\u001b[0m:\u001b[32m InlineJavascriptRequirement\u001b[0m\n",
      "\u001b[32m  \u001b[0m-\u001b[36m class\u001b[0m:\u001b[32m SchemaDefRequirement\u001b[0m\n",
      "\u001b[32m    \u001b[0m\u001b[36mtypes\u001b[0m:\n",
      "      -\u001b[36m $import\u001b[0m:\u001b[32m https://raw.githubusercontent.com/eoap/schemas/main/geojson.yaml\u001b[0m\n",
      "\u001b[32m\u001b[0m\u001b[36minputs\u001b[0m:\u001b[36m\u001b[0m\n",
      "\u001b[36m  point_of_interest\u001b[0m:\u001b[36m\u001b[0m\n",
      "\u001b[36m    type\u001b[0m:\u001b[32m https://raw.githubusercontent.com/eoap/schemas/main/geojson.yaml#Point\u001b[0m\n",
      "\u001b[32m    \u001b[0m\u001b[36mlabel\u001b[0m:\u001b[32m \"Point of Interest\"\u001b[0m\u001b[36m\u001b[0m\n",
      "\u001b[36m    doc\u001b[0m:\u001b[32m \"Point of interest defined in GeoJSON format\"\u001b[0m\u001b[36m\u001b[0m\n",
      "\u001b[36m    inputBinding\u001b[0m:\u001b[36m\u001b[0m\n",
      "\u001b[36m      valueFrom\u001b[0m: |\n",
      "\u001b[32m        ${\u001b[0m\n",
      "\u001b[32m          // Validate if type is 'Point'\u001b[0m\n",
      "\u001b[32m          if (inputs.point_of_interest.type !== 'Point') {\u001b[0m\n",
      "\u001b[32m            throw \"Invalid GeoJSON type: expected 'Point', got '\" + inputs.point_of_interest.type + \"'\";\u001b[0m\n",
      "\u001b[32m          }\u001b[0m\n",
      "\u001b[32m          var coordinates = inputs.point_of_interest.coordinates;\u001b[0m\n",
      "\u001b[32m\u001b[0m\n",
      "\u001b[32m          return \"Point Coordinates: \" + coordinates.join(', ');\u001b[0m\n",
      "\u001b[32m        }\u001b[0m\n",
      "\u001b[32m\u001b[0m\u001b[36moutputs\u001b[0m:\u001b[36m\u001b[0m\n",
      "\u001b[36m  echo_output\u001b[0m:\u001b[36m\u001b[0m\n",
      "\u001b[36m    type\u001b[0m:\u001b[32m stdout\u001b[0m\n",
      "\u001b[32m\u001b[0m\u001b[36mstdout\u001b[0m:\u001b[32m echo_output.txt\u001b[0m\n"
     ]
    }
   ],
   "source": [
    "cat ../../examples/geojson/geojson-point.cwl | yq "
   ]
  },
  {
   "cell_type": "markdown",
   "metadata": {},
   "source": [
    "## Input example"
   ]
  },
  {
   "cell_type": "code",
   "execution_count": 5,
   "metadata": {
    "vscode": {
     "languageId": "shellscript"
    }
   },
   "outputs": [
    {
     "name": "stdout",
     "output_type": "stream",
     "text": [
      "\u001b[36mpoint_of_interest\u001b[0m:\u001b[36m\u001b[0m\n",
      "\u001b[36m  class\u001b[0m:\u001b[32m https://raw.githubusercontent.com/eoap/schemas/main/geojson.yaml#Point\u001b[0m\n",
      "\u001b[32m  \u001b[0m\u001b[36mtype\u001b[0m:\u001b[32m Point\u001b[0m\n",
      "\u001b[32m  \u001b[0m\u001b[36mcoordinates\u001b[0m:\n",
      "    -\u001b[95m 125.6\u001b[0m\n",
      "\u001b[95m    \u001b[0m-\u001b[95m 10.1\u001b[0m\n",
      "\u001b[95m  \u001b[0m\u001b[36mbbox\u001b[0m:\n",
      "    -\u001b[95m 125.6\u001b[0m\n",
      "\u001b[95m    \u001b[0m-\u001b[95m 10.1\u001b[0m\n",
      "\u001b[95m    \u001b[0m-\u001b[95m 125.6\u001b[0m\n",
      "\u001b[95m    \u001b[0m-\u001b[95m 10.1\u001b[0m\n"
     ]
    }
   ],
   "source": [
    "cat ../../examples/geojson/geojson-point.yaml | yq"
   ]
  },
  {
   "cell_type": "markdown",
   "metadata": {},
   "source": [
    "## Execute the example \n",
    "\n",
    "Run the example with:\n",
    "\n",
    "```bash\n",
    "cwltool examples/geojson/geojson-point.cwl examples/geojson/geojson-point.yaml\n",
    "```\n",
    "\n",
    "This produces the output:"
   ]
  },
  {
   "cell_type": "code",
   "execution_count": 6,
   "metadata": {
    "vscode": {
     "languageId": "shellscript"
    }
   },
   "outputs": [
    {
     "name": "stdout",
     "output_type": "stream",
     "text": [
      "\u001b[1;30mINFO\u001b[0m /home/stripodi/.local/bin/cwltool 3.1.20250110105449\n",
      "\u001b[1;30mINFO\u001b[0m Resolved '../../examples/geojson/geojson-point.cwl' to 'file:///home/stripodi/Documents/workspace/schemas/examples/geojson/geojson-point.cwl'\n",
      "\u001b[1;30mINFO\u001b[0m [job geojson-point.cwl] /tmp/c6o2gak6$ echo \\\n",
      "    'Point Coordinates: 125.6, 10.1' > /tmp/c6o2gak6/echo_output.txt\n",
      "\u001b[1;30mINFO\u001b[0m [job geojson-point.cwl] completed success\n",
      "\u001b[1;30mINFO\u001b[0m Final process status is success\n"
     ]
    }
   ],
   "source": [
    "cwltool ../../examples/geojson/geojson-point.cwl ../../examples/geojson/geojson-point.yaml > output.json"
   ]
  },
  {
   "cell_type": "markdown",
   "metadata": {
    "vscode": {
     "languageId": "shellscript"
    }
   },
   "source": [
    "The content of the `echo_output.txt` file is:"
   ]
  },
  {
   "cell_type": "code",
   "execution_count": 7,
   "metadata": {
    "vscode": {
     "languageId": "shellscript"
    }
   },
   "outputs": [
    {
     "name": "stdout",
     "output_type": "stream",
     "text": [
      "Point Coordinates: 125.6, 10.1\n"
     ]
    }
   ],
   "source": [
    "cat $( cat output.json | jq -r .echo_output.path )\n"
   ]
  },
  {
   "cell_type": "markdown",
   "metadata": {},
   "source": []
  }
 ],
 "metadata": {
  "kernelspec": {
   "display_name": "Bash",
   "language": "bash",
   "name": "bash"
  },
  "language_info": {
   "codemirror_mode": "shell",
   "file_extension": ".sh",
   "mimetype": "text/x-sh",
   "name": "bash"
  }
 },
 "nbformat": 4,
 "nbformat_minor": 2
}
