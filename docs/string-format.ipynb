{
 "cells": [
  {
   "cell_type": "markdown",
   "metadata": {},
   "source": [
    "# String format"
   ]
  },
  {
   "cell_type": "markdown",
   "metadata": {},
   "source": [
    "## How to use this schema\n",
    "\n",
    "Import the schema in the CWL description:\n",
    "\n",
    "```yaml\n",
    "cwlVersion: v1.2\n",
    "class: CommandLineTool\n",
    "requirements:\n",
    "  ...\n",
    "  SchemaDefRequirement:\n",
    "    types:\n",
    "    - $import: https://raw.githubusercontent.com/eoap/schemas/main/string_format.yaml\n",
    "```"
   ]
  },
  {
   "cell_type": "markdown",
   "metadata": {},
   "source": []
  }
 ],
 "metadata": {
  "kernelspec": {
   "display_name": "Bash",
   "language": "bash",
   "name": "bash"
  },
  "language_info": {
   "codemirror_mode": "shell",
   "file_extension": ".sh",
   "mimetype": "text/x-sh",
   "name": "bash"
  }
 },
 "nbformat": 4,
 "nbformat_minor": 2
}
