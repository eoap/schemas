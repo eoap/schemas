{
 "cells": [
  {
   "cell_type": "markdown",
   "metadata": {},
   "source": [
    "# GeoJSON Feature\n"
   ]
  },
  {
   "cell_type": "markdown",
   "metadata": {},
   "source": [
    "## CWL example"
   ]
  },
  {
   "cell_type": "code",
   "execution_count": 2,
   "metadata": {
    "vscode": {
     "languageId": "shellscript"
    }
   },
   "outputs": [
    {
     "name": "stdout",
     "output_type": "stream",
     "text": [
      "\u001b[36mcwlVersion\u001b[0m:\u001b[32m v1.2\u001b[0m\n",
      "\u001b[32m\u001b[0m\u001b[36mclass\u001b[0m:\u001b[32m CommandLineTool\u001b[0m\n",
      "\u001b[32m\u001b[0m\u001b[36mlabel\u001b[0m:\u001b[32m \"Echo GeoJSON Feature\"\u001b[0m\u001b[36m\u001b[0m\n",
      "\u001b[36mbaseCommand\u001b[0m:\u001b[32m echo\u001b[0m\n",
      "\u001b[32m\u001b[0m\u001b[36mrequirements\u001b[0m:\n",
      "  -\u001b[36m class\u001b[0m:\u001b[32m InlineJavascriptRequirement\u001b[0m\n",
      "\u001b[32m  \u001b[0m-\u001b[36m class\u001b[0m:\u001b[32m SchemaDefRequirement\u001b[0m\n",
      "\u001b[32m    \u001b[0m\u001b[36mtypes\u001b[0m:\n",
      "      -\u001b[36m $import\u001b[0m:\u001b[32m https://raw.githubusercontent.com/eoap/schemas/main/geojson.yaml\u001b[0m\n",
      "\u001b[32m\u001b[0m\u001b[36minputs\u001b[0m:\u001b[36m\u001b[0m\n",
      "\u001b[36m  aoi\u001b[0m:\u001b[36m\u001b[0m\n",
      "\u001b[36m    type\u001b[0m:\u001b[32m https://raw.githubusercontent.com/eoap/schemas/main/geojson.yaml#Feature\u001b[0m\n",
      "\u001b[32m    \u001b[0m\u001b[36mlabel\u001b[0m:\u001b[32m \"Area of interest\"\u001b[0m\u001b[36m\u001b[0m\n",
      "\u001b[36m    doc\u001b[0m:\u001b[32m \"Area of interest defined in GeoJSON format\"\u001b[0m\u001b[36m\u001b[0m\n",
      "\u001b[36m    inputBinding\u001b[0m:\u001b[36m\u001b[0m\n",
      "\u001b[36m      valueFrom\u001b[0m: |\n",
      "\u001b[32m        ${\u001b[0m\n",
      "\u001b[32m          // Validate if type is 'Feature'\u001b[0m\n",
      "\u001b[32m          if (inputs.aoi.type !== 'Feature') {\u001b[0m\n",
      "\u001b[32m            throw \"Invalid GeoJSON type: expected 'Feature', got '\" + inputs.aoi.type + \"'\";\u001b[0m\n",
      "\u001b[32m          }\u001b[0m\n",
      "\u001b[32m          // get the Feature geometry type\u001b[0m\n",
      "\u001b[32m\u001b[0m\n",
      "\u001b[32m          return \"Feature type: \" + inputs.aoi.geometry;\u001b[0m\n",
      "\u001b[32m        }\u001b[0m\n",
      "\u001b[32m\u001b[0m\u001b[36moutputs\u001b[0m:\u001b[36m\u001b[0m\n",
      "\u001b[36m  echo_output\u001b[0m:\u001b[36m\u001b[0m\n",
      "\u001b[36m    type\u001b[0m:\u001b[32m stdout\u001b[0m\n",
      "\u001b[32m\u001b[0m\u001b[36mstdout\u001b[0m:\u001b[32m echo_output.txt\u001b[0m\n"
     ]
    }
   ],
   "source": [
    "cat ../examples/geojson/geojson-feature.cwl | yq "
   ]
  },
  {
   "cell_type": "markdown",
   "metadata": {},
   "source": [
    "## Input example"
   ]
  },
  {
   "cell_type": "code",
   "execution_count": 15,
   "metadata": {
    "vscode": {
     "languageId": "shellscript"
    }
   },
   "outputs": [
    {
     "name": "stdout",
     "output_type": "stream",
     "text": [
      "\u001b[36maoi\u001b[0m:\u001b[36m\u001b[0m\n",
      "\u001b[36m  class\u001b[0m:\u001b[32m https://raw.githubusercontent.com/eoap/schemas/main/geojson.yaml#Feature\u001b[0m\n",
      "\u001b[32m  \u001b[0m\u001b[36mid\u001b[0m:\u001b[32m \"aoi-1\"\u001b[0m\u001b[36m\u001b[0m\n",
      "\u001b[36m  type\u001b[0m:\u001b[32m \"Feature\"\u001b[0m\u001b[36m\u001b[0m\n",
      "\u001b[36m  bbox\u001b[0m:\n",
      "    -\u001b[95m 73.958\u001b[0m\n",
      "\u001b[95m    \u001b[0m-\u001b[95m -40.8003\u001b[0m\n",
      "\u001b[95m    \u001b[0m-\u001b[95m 73.9737\u001b[0m\n",
      "\u001b[95m    \u001b[0m-\u001b[95m 40.7648\u001b[0m\n",
      "\u001b[95m  \u001b[0m\u001b[36mgeometry\u001b[0m:\u001b[36m\u001b[0m\n",
      "\u001b[36m    type\u001b[0m:\u001b[32m MultiPolygon\u001b[0m\n",
      "\u001b[32m    \u001b[0m\u001b[36mcoordinates\u001b[0m:\n",
      "      - - - -\u001b[95m -73.958\u001b[0m\n",
      "\u001b[95m            \u001b[0m-\u001b[95m 40.8003\u001b[0m\n",
      "\u001b[95m          \u001b[0m- -\u001b[95m -73.9498\u001b[0m\n",
      "\u001b[95m            \u001b[0m-\u001b[95m 40.7968\u001b[0m\n",
      "\u001b[95m          \u001b[0m- -\u001b[95m -73.9737\u001b[0m\n",
      "\u001b[95m            \u001b[0m-\u001b[95m 40.7648\u001b[0m\n",
      "\u001b[95m          \u001b[0m- -\u001b[95m -73.9814\u001b[0m\n",
      "\u001b[95m            \u001b[0m-\u001b[95m 40.7681\u001b[0m\n",
      "\u001b[95m          \u001b[0m- -\u001b[95m -73.958\u001b[0m\n",
      "\u001b[95m            \u001b[0m-\u001b[95m 40.8003\u001b[0m\n",
      "\u001b[95m      \u001b[0m- - - -\u001b[95m -73.958\u001b[0m\n",
      "\u001b[95m            \u001b[0m-\u001b[95m 40.8003\u001b[0m\n",
      "\u001b[95m          \u001b[0m- -\u001b[95m -73.9498\u001b[0m\n",
      "\u001b[95m            \u001b[0m-\u001b[95m 40.7968\u001b[0m\n",
      "\u001b[95m          \u001b[0m- -\u001b[95m -73.9737\u001b[0m\n",
      "\u001b[95m            \u001b[0m-\u001b[95m 40.7648\u001b[0m\n",
      "\u001b[95m          \u001b[0m- -\u001b[95m -73.958\u001b[0m\n",
      "\u001b[95m            \u001b[0m-\u001b[95m 40.8003\u001b[0m\n",
      "\u001b[95m    \u001b[0m\u001b[36mbbox\u001b[0m:\n",
      "      -\u001b[95m 73.958\u001b[0m\n",
      "\u001b[95m      \u001b[0m-\u001b[95m -40.8003\u001b[0m\n",
      "\u001b[95m      \u001b[0m-\u001b[95m 73.9737\u001b[0m\n",
      "\u001b[95m      \u001b[0m-\u001b[95m 40.7648\u001b[0m\n"
     ]
    }
   ],
   "source": [
    "cat ../examples/geojson/geojson-feature.yaml | yq"
   ]
  },
  {
   "cell_type": "markdown",
   "metadata": {},
   "source": [
    "## Execute the example \n",
    "\n",
    "Run the example with:\n",
    "\n",
    "```bash\n",
    "cwltool examples/geojson/geojson-feature.cwl examples/geojson/geojson-feature.yaml\n",
    "```\n",
    "\n",
    "This produces the output:"
   ]
  },
  {
   "cell_type": "code",
   "execution_count": 13,
   "metadata": {
    "vscode": {
     "languageId": "shellscript"
    }
   },
   "outputs": [
    {
     "name": "stdout",
     "output_type": "stream",
     "text": [
      "\u001b[1;30mINFO\u001b[0m /home/fbrito/.local/bin/cwltool 3.1.20250110105449\n",
      "\u001b[1;30mINFO\u001b[0m Resolved '../examples/geojson/geojson-feature.cwl' to 'file:///data/work/github/eoap/schemas/examples/geojson/geojson-feature.cwl'\n",
      "\u001b[1;30mINFO\u001b[0m [job geojson-feature.cwl] /tmp/x3jbkur7$ echo \\\n",
      "    'Feature with id '\"'\"'aoi-1'\"'\"' is of type: MultiPolygon' > /tmp/x3jbkur7/echo_output.txt\n",
      "\u001b[1;30mINFO\u001b[0m [job geojson-feature.cwl] completed success\n",
      "\u001b[1;30mINFO\u001b[0m Final process status is success\n"
     ]
    }
   ],
   "source": [
    "cwltool ../examples/geojson/geojson-feature.cwl ../examples/geojson/geojson-feature.yaml > output.json"
   ]
  },
  {
   "cell_type": "markdown",
   "metadata": {
    "vscode": {
     "languageId": "shellscript"
    }
   },
   "source": [
    "The content of the `echo_output.txt` file is:"
   ]
  },
  {
   "cell_type": "code",
   "execution_count": 14,
   "metadata": {
    "vscode": {
     "languageId": "shellscript"
    }
   },
   "outputs": [
    {
     "name": "stdout",
     "output_type": "stream",
     "text": [
      "Feature with id 'aoi-1' is of type: MultiPolygon\n"
     ]
    }
   ],
   "source": [
    "cat $( cat output.json | jq -r .echo_output.path )\n"
   ]
  },
  {
   "cell_type": "markdown",
   "metadata": {},
   "source": []
  }
 ],
 "metadata": {
  "kernelspec": {
   "display_name": "Bash",
   "language": "bash",
   "name": "bash"
  },
  "language_info": {
   "codemirror_mode": "shell",
   "file_extension": ".sh",
   "mimetype": "text/x-sh",
   "name": "bash"
  }
 },
 "nbformat": 4,
 "nbformat_minor": 2
}
